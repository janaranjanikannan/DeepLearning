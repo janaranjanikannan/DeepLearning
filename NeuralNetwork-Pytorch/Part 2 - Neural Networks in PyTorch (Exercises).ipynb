{
 "cells": [
  {
   "cell_type": "markdown",
   "metadata": {},
   "source": [
    "# Neural networks with PyTorch\n",
    "\n",
    "Deep learning networks tend to be massive with dozens or hundreds of layers, that's where the term \"deep\" comes from. You can build one of these deep networks using only weight matrices as we did in the previous notebook, but in general it's very cumbersome and difficult to implement. PyTorch has a nice module `nn` that provides a nice way to efficiently build large neural networks."
   ]
  },
  {
   "cell_type": "code",
   "execution_count": 1,
   "metadata": {},
   "outputs": [],
   "source": [
    "# Import necessary packages\n",
    "\n",
    "%matplotlib inline\n",
    "%config InlineBackend.figure_format = 'retina'\n",
    "\n",
    "import numpy as np\n",
    "import torch\n",
    "\n",
    "import helper\n",
    "\n",
    "import matplotlib.pyplot as plt"
   ]
  },
  {
   "cell_type": "markdown",
   "metadata": {},
   "source": [
    "\n",
    "Now we're going to build a larger network that can solve a (formerly) difficult problem, identifying text in an image. Here we'll use the MNIST dataset which consists of greyscale handwritten digits. Each image is 28x28 pixels, you can see a sample below\n",
    "\n",
    "<img src='assets/mnist.png'>\n",
    "\n",
    "Our goal is to build a neural network that can take one of these images and predict the digit in the image.\n",
    "\n",
    "First up, we need to get our dataset. This is provided through the `torchvision` package. The code below will download the MNIST dataset, then create training and test datasets for us. Don't worry too much about the details here, you'll learn more about this later."
   ]
  },
  {
   "cell_type": "code",
   "execution_count": 2,
   "metadata": {},
   "outputs": [],
   "source": [
    "### Run this cell\n",
    "\n",
    "from torchvision import datasets, transforms\n",
    "\n",
    "# Define a transform to normalize the data\n",
    "transform = transforms.Compose([transforms.ToTensor(),\n",
    "                              transforms.Normalize((0.5,), (0.5,)),\n",
    "                              ])\n",
    "\n",
    "# Download and load the training data\n",
    "trainset = datasets.MNIST('~/.pytorch/MNIST_data/', download=True, train=True, transform=transform)\n",
    "trainloader = torch.utils.data.DataLoader(trainset, batch_size=64, shuffle=True)"
   ]
  },
  {
   "cell_type": "markdown",
   "metadata": {},
   "source": [
    "We have the training data loaded into `trainloader` and we make that an iterator with `iter(trainloader)`. Later, we'll use this to loop through the dataset for training, like\n",
    "\n",
    "```python\n",
    "for image, label in trainloader:\n",
    "    ## do things with images and labels\n",
    "```\n",
    "\n",
    "You'll notice I created the `trainloader` with a batch size of 64, and `shuffle=True`. The batch size is the number of images we get in one iteration from the data loader and pass through our network, often called a *batch*. And `shuffle=True` tells it to shuffle the dataset every time we start going through the data loader again. But here I'm just grabbing the first batch so we can check out the data. We can see below that `images` is just a tensor with size `(64, 1, 28, 28)`. So, 64 images per batch, 1 color channel, and 28x28 images."
   ]
  },
  {
   "cell_type": "code",
   "execution_count": 3,
   "metadata": {},
   "outputs": [
    {
     "name": "stdout",
     "output_type": "stream",
     "text": [
      "<class 'torch.Tensor'>\n",
      "torch.Size([64, 1, 28, 28])\n",
      "torch.Size([64])\n"
     ]
    }
   ],
   "source": [
    "dataiter = iter(trainloader)\n",
    "images, labels = dataiter.next()\n",
    "print(type(images))\n",
    "print(images.shape)\n",
    "print(labels.shape)"
   ]
  },
  {
   "cell_type": "markdown",
   "metadata": {},
   "source": [
    "This is what one of the images looks like. "
   ]
  },
  {
   "cell_type": "code",
   "execution_count": 4,
   "metadata": {},
   "outputs": [
    {
     "data": {
      "image/png": "[encoded data removed]",
      "text/plain": [
       "<matplotlib.figure.Figure at 0x7f550ab280f0>"
      ]
     },
     "metadata": {
      "image/png": {
       "height": 250,
       "width": 253
      },
      "needs_background": "light"
     },
     "output_type": "display_data"
    }
   ],
   "source": [
    "plt.imshow(images[1].numpy().squeeze(), cmap='Greys_r');"
   ]
  },
  {
   "cell_type": "markdown",
   "metadata": {},
   "source": [
    "First, let's try to build a simple network for this dataset using weight matrices and matrix multiplications. Then, we'll see how to do it using PyTorch's `nn` module which provides a much more convenient and powerful method for defining network architectures.\n",
    "\n",
    "The networks you've seen so far are called *fully-connected* or *dense* networks. Each unit in one layer is connected to each unit in the next layer. In fully-connected networks, the input to each layer must be a one-dimensional vector (which can be stacked into a 2D tensor as a batch of multiple examples). However, our images are 28x28 2D tensors, so we need to convert them into 1D vectors. Thinking about sizes, we need to convert the batch of images with shape `(64, 1, 28, 28)` to a have a shape of `(64, 784)`, 784 is 28 times 28. This is typically called *flattening*, we flattened the 2D images into 1D vectors.\n",
    "\n",
    "Previously you built a network with one output unit. Here we need 10 output units, one for each digit. We want our network to predict the digit shown in an image, so what we'll do is calculate probabilities that the image is of any one digit or class. This ends up being a discrete probability distribution over the classes (digits) that tells us the most likely class for the image. That means we need 10 output units for the 10 classes (digits). We'll see how to convert the network output into a probability distribution next.\n",
    "\n",
    "> **Exercise:** Flatten the batch of images `images`. Then build a multi-layer network with 784 input units, 256 hidden units, and 10 output units using random tensors for the weights and biases. For now, use a sigmoid activation for the hidden layer. Leave the output layer without an activation, we'll add one that gives us a probability distribution next."
   ]
  },
  {
   "cell_type": "code",
   "execution_count": 5,
   "metadata": {},
   "outputs": [
    {
     "name": "stdout",
     "output_type": "stream",
     "text": [
      "tensor([[  9.6637,  10.4550, -12.8773,   5.5134, -20.4852,  -5.1867,\n",
      "           6.4007,   4.2704,   0.7150,  -6.4217],\n",
      "        [ 19.0705,   3.2059,  -3.5420,   4.9603, -12.6750,  -0.6753,\n",
      "          -0.6826,  -4.8102,   6.7303,  -1.0439],\n",
      "        [ 13.6909,   2.7899, -11.1222,   0.8900, -24.0500,  -0.6560,\n",
      "         -11.0943,  -6.2570,   3.1084,  -2.6955],\n",
      "        [  4.7320,  -2.7077,  -4.1934,   4.3784, -20.5846,  -6.4363,\n",
      "           2.3733,  -1.2360,  -0.9904, -11.2061],\n",
      "        [  7.1297,  11.3533, -10.2553,   6.4013, -17.6664,   2.5686,\n",
      "          -2.1663,  -1.8361,  -1.3140,  -1.1278],\n",
      "        [ -1.2390,  11.4805,  -7.2292,  -0.6251, -21.2266,   5.8563,\n",
      "           7.8063,   9.7776,  -0.1789,  -1.1512],\n",
      "        [ 10.2102,   9.6347, -15.9059,  -2.5140,  -5.0043,  -8.8974,\n",
      "         -11.2490,   0.7547,   1.3878,  -6.5070],\n",
      "        [ 15.0692,  10.5282,  -7.3317,  -0.3271, -13.1572,  -0.8904,\n",
      "          -5.5776,   7.1281, -10.3621,  -4.1639],\n",
      "        [  8.3875,   1.4597, -11.5655,  -5.8809, -13.9388,  -2.3565,\n",
      "           0.9435,   3.0220,  -5.5434, -11.7005],\n",
      "        [  9.8723,   2.3781,  -7.9957,  -0.4241, -22.1191,  -2.7245,\n",
      "          -8.0700,   6.9953,  -1.6216,  -8.7485],\n",
      "        [ 15.3617,   1.6625, -13.0002,   5.9456, -15.3357,  -4.5619,\n",
      "          -1.4387,   3.3873,   0.1582,  -9.6091],\n",
      "        [  9.6878,   6.4128, -10.4176,   5.9069, -16.9864,   1.9814,\n",
      "           1.6961,   3.9068,  -1.1816, -12.2845],\n",
      "        [  4.6606,   4.7792,  -8.6316,  -2.4816, -26.6106,  -7.0226,\n",
      "          12.4093,  -2.6762,  -1.0418,  -8.4910],\n",
      "        [ 16.6360,   5.7121, -12.0592,   0.0562, -13.0559,   4.3387,\n",
      "          -6.2169,  -0.9729,  -2.7062,  -5.0849],\n",
      "        [ 14.5948,  -1.0997, -17.3276,   3.5364, -18.3960,  -7.8932,\n",
      "         -13.9573,  -5.8650,   0.7946,  -6.5371],\n",
      "        [  3.1358,  10.2232,  -7.5175,   7.2391, -12.4786,   0.9723,\n",
      "          -1.9353,  -3.3565,  -4.3230, -15.8413],\n",
      "        [  3.9651,  -1.3662, -13.4444,   1.8119, -19.3805,  -5.1250,\n",
      "           0.2543,  -7.7005,  -1.5069,   2.3000],\n",
      "        [ 13.8208,   7.2485, -13.3583,  -5.1685, -18.7123,  -7.1481,\n",
      "           7.9250,   7.3016,  -0.0691,  -2.0128],\n",
      "        [ 10.7315,   2.4889, -17.3756,   2.2168, -16.7850,  -0.8456,\n",
      "          -4.1306,   8.1696,  -6.9609,  -6.2517],\n",
      "        [ 12.3060,   6.7321, -11.2511,   1.4389, -14.1242,  -0.5027,\n",
      "           2.4054,   6.0696,  -2.9740,  -4.4322],\n",
      "        [ 22.1465,   8.9165,  -7.1180,  -4.5709, -17.3557,  -2.6276,\n",
      "          -2.5687,   0.3227,  -2.4132,  -2.4058],\n",
      "        [  8.2941,   5.4522,  -7.6216,  -3.4719, -16.8765,   8.0396,\n",
      "          -1.0831,   5.7598,   2.1000, -10.2313],\n",
      "        [  7.9341,   4.3894,  -2.3491,   6.5930,  -9.4544,  -5.5696,\n",
      "          -1.5346,  -0.0443,   4.6052, -12.4629],\n",
      "        [  9.5844,   5.9477,  -7.1837,  -3.3691, -11.0180,  -5.4552,\n",
      "           0.8235,   6.2482,  -4.1400,  -8.8534],\n",
      "        [ 18.4054,  15.3334,  -8.1974,  -2.2878, -18.5988,  -0.5299,\n",
      "          -6.4801,   5.4225,   3.2763,   3.6764],\n",
      "        [ 12.7455,   7.2460, -10.6426,  -1.0306, -15.9848,   4.9728,\n",
      "           6.2533,  -4.1200,  -2.9659,  -2.5266],\n",
      "        [  2.6499,  -0.4214, -20.5584,   2.0699, -20.5408,  -7.8464,\n",
      "           7.3228,   0.9814,  -1.8574, -14.9225],\n",
      "        [  7.6190,   0.2045,  -9.2377,   5.1049, -12.1187,   0.7129,\n",
      "          -8.9299,  -0.3038,  -0.9429, -13.7533],\n",
      "        [  4.4195,  17.1558, -10.1984,  -1.0280, -14.8069,   1.2286,\n",
      "          -8.2624,  -2.7654,   6.1862,  -4.3663],\n",
      "        [ 10.8904,   8.4243, -10.6528,   4.9146,  -7.5717,  -8.5771,\n",
      "          -4.6143,  -7.5212,   5.4437,  -6.1820],\n",
      "        [ 13.0156,   6.5892, -16.1044,  -4.2473, -19.5982,  -0.3559,\n",
      "          -1.9232,   3.0846,  -6.0028,  -9.2050],\n",
      "        [ 16.7693,   4.4132, -12.3574,   0.6188, -14.9505,  -0.6712,\n",
      "          -1.2840,   9.7175,  -5.0708,  -8.9969],\n",
      "        [ 12.1710,   7.0562, -10.8403,  -0.9723, -26.2565,  -4.5519,\n",
      "          -0.6039,   8.2578,  -5.7664,  -7.2822],\n",
      "        [ 16.5415,   2.3506, -16.4558,   3.3360, -17.8173,  -8.8033,\n",
      "          -7.2996,   3.0584,   1.9393,  -6.8125],\n",
      "        [ 10.9730,   7.6197,  -3.4245,   1.5994, -13.8425,  -6.8309,\n",
      "          -0.5164,  12.5124,   0.5545,  -4.9025],\n",
      "        [  7.7004,   7.3913, -10.0853,   1.4899, -24.6279,  -7.1691,\n",
      "          -7.7227,  -4.8261,   6.2543, -12.4613],\n",
      "        [ -5.4483,   5.2125, -13.3693,   8.9980, -20.4125,  -9.7672,\n",
      "          -2.0930,   1.0265,  -5.2613, -16.7964],\n",
      "        [ -1.2056,  15.9808,  -9.9839,   2.7509, -15.8193,   3.4339,\n",
      "          -5.1090,  -4.6225,   5.2694, -13.9395],\n",
      "        [  9.8537,   9.4351, -10.8492,   2.8753, -13.9851,  -4.2572,\n",
      "          10.8944,   3.7993,  -1.8776,  -5.7886],\n",
      "        [  7.5807,  -0.2934,  -9.5891,  -0.2823, -24.2719, -10.7241,\n",
      "          -2.9356,   5.6030,   0.5071, -11.4385],\n",
      "        [  5.9411,   0.2507,  -9.7425,   3.6156, -12.1341,  -4.4877,\n",
      "          -2.1896,  10.3754,   2.3740, -16.6770],\n",
      "        [ 16.7017,   5.9954,  -5.6000,  -0.0603, -10.4625,  -7.9232,\n",
      "          -1.2496,   4.8907,   1.6509,  -6.9886],\n",
      "        [ 10.1091,   9.0154, -16.6634,   0.8080, -17.8743,  -5.4578,\n",
      "          -6.9186,  -1.9507,   3.7486,   0.5997],\n",
      "        [ 18.4002,  -1.7080, -10.2763,   1.2929, -17.8495,  -2.0716,\n",
      "           0.9449,  -5.6160,  -3.4605,  -9.0999],\n",
      "        [ 10.5140,  12.8153, -15.1586,  -5.8692, -20.7531,   9.3303,\n",
      "          -9.0411,   1.3437,  10.0021, -13.3465],\n",
      "        [ 19.2152,   2.3232,  -2.6730,   8.9567, -10.5813,  -6.7379,\n",
      "          -4.1317,   3.9271,   8.2598,  -4.7888],\n",
      "        [ 24.3179,   8.8533, -18.4891,  -0.1386, -13.6985,   4.6003,\n",
      "          -0.6172,   7.9261,  10.7711,  -9.1330],\n",
      "        [ 12.9906,   2.0150,  -6.9375,  -8.5562, -15.5328,  -3.9318,\n",
      "           1.2096,   1.8691,  -1.2396,  -5.2439],\n",
      "        [  9.4775,   8.0152,  -6.0999,  -4.3241, -11.2340,  -2.1790,\n",
      "           4.2577,   7.6684,   0.8953,  -3.7642],\n",
      "        [ 15.9170,  12.2925,  -7.1411,  -2.2498, -21.0908,  -3.4255,\n",
      "          -6.6978,   5.2255,  -5.4194, -14.0829],\n",
      "        [ 14.1565,   2.9922,  -8.0390,  -1.5178, -13.6958,  -7.6425,\n",
      "          -3.1073,   5.7470,  -4.8700,  -2.7305],\n",
      "        [  5.9982,   7.6911,  -7.8126,  11.5026, -16.9423,   1.6359,\n",
      "           5.4352,   2.8073,  -3.3221,  -2.7979],\n",
      "        [ 16.4597,   4.2057, -15.9321,  -7.0668, -19.7140,  -3.2792,\n",
      "           1.6899,  -1.5548,   1.8309,   0.8811],\n",
      "        [ 26.5463,  12.3538, -19.8787,  -9.5170, -25.5391,  -1.0099,\n",
      "          -0.9173,   2.3281,   3.8860,  -7.7153],\n",
      "        [ 15.8247,  13.7187, -12.6691,  -1.2093, -21.3966,  -8.0818,\n",
      "           0.0403,  10.7785,   2.5696,  -0.2884],\n",
      "        [  3.5394,   3.4393, -12.3619,   9.5413, -19.4314,   1.1990,\n",
      "           0.3587,   0.8921,   0.7462,  -5.2366],\n",
      "        [ 10.1880,   6.7707, -13.1601,  -5.0214, -18.4610,   5.9904,\n",
      "          -5.1457,  -3.3655,   5.2255,  -9.3242],\n",
      "        [ 12.2467,   5.9808, -14.9626,   1.0315, -21.9365,  -1.6511,\n",
      "          -1.6294,  -0.5804,   4.5394,  -8.5511],\n",
      "        [  5.0930,  13.1558,  -3.7618,   9.6082, -22.3670,   7.8432,\n",
      "          -1.1856, -12.4334,  -1.2837,  -7.5124],\n",
      "        [ 10.0218,  11.7838,  -5.4106,  13.5172, -21.8371,  -5.8309,\n",
      "           1.9890,   5.5796,  -0.6999,  -4.3952],\n",
      "        [ 15.0511,   4.1239, -11.1468,   5.6955, -15.4600,  -1.5538,\n",
      "           2.4997,   5.3394,  -0.1844,  -6.1088],\n",
      "        [  4.2799,   6.5736,  -8.4024,   3.9534,  -3.7564,  -7.7801,\n",
      "          -9.2089, -11.3985,   3.9572, -10.3256],\n",
      "        [  8.5875,   7.7583,  -1.7183,   5.7733, -14.2820,  -0.3772,\n",
      "           0.8928,  -0.7675,  -0.0287,  -1.2186],\n",
      "        [  9.8412,   5.8597,  -7.7384,   5.2055, -16.8648,  -9.7284,\n",
      "           0.9068,  -0.1223,  -1.7206,  -6.5713]])\n"
     ]
    }
   ],
   "source": [
    "## Your solution\n",
    "#features = images.view(64,784)\n",
    "features = images.view(64,-1)\n",
    "n_input = features.shape[1]\n",
    "n_hidden = 256\n",
    "n_output = 10\n",
    "\n",
    "def activation(x):\n",
    "    return 1/(1+torch.exp(-x))\n",
    "\n",
    "#torch.manual_seed(10)\n",
    "W1 = torch.randn(n_input,n_hidden)\n",
    "B1 = torch.randn(1,n_hidden)\n",
    "\n",
    "W2 = torch.randn(n_hidden,n_output)\n",
    "B2 = torch.randn(1,n_output)\n",
    "\n",
    "H = activation(torch.mm(features,W1)+B1)\n",
    "out = torch.mm(H,W2)+B2\n",
    "print(out)\n",
    "\n",
    "#out = # output of your network, should have shape (64,10)"
   ]
  },
  {
   "cell_type": "markdown",
   "metadata": {},
   "source": [
    "Now we have 10 outputs for our network. We want to pass in an image to our network and get out a probability distribution over the classes that tells us the likely class(es) the image belongs to. Something that looks like this:\n",
    "<img src='assets/image_distribution.png' width=500px>\n",
    "\n",
    "Here we see that the probability for each class is roughly the same. This is representing an untrained network, it hasn't seen any data yet so it just returns a uniform distribution with equal probabilities for each class.\n",
    "\n",
    "To calculate this probability distribution, we often use the [**softmax** function](https://en.wikipedia.org/wiki/Softmax_function). Mathematically this looks like\n",
    "\n",
    "$$\n",
    "\\Large \\sigma(x_i) = \\cfrac{e^{x_i}}{\\sum_k^K{e^{x_k}}}\n",
    "$$\n",
    "\n",
    "What this does is squish each input $x_i$ between 0 and 1 and normalizes the values to give you a proper probability distribution where the probabilites sum up to one.\n",
    "\n",
    "> **Exercise:** Implement a function `softmax` that performs the softmax calculation and returns probability distributions for each example in the batch. Note that you'll need to pay attention to the shapes when doing this. If you have a tensor `a` with shape `(64, 10)` and a tensor `b` with shape `(64,)`, doing `a/b` will give you an error because PyTorch will try to do the division across the columns (called broadcasting) but you'll get a size mismatch. The way to think about this is for each of the 64 examples, you only want to divide by one value, the sum in the denominator. So you need `b` to have a shape of `(64, 1)`. This way PyTorch will divide the 10 values in each row of `a` by the one value in each row of `b`. Pay attention to how you take the sum as well. You'll need to define the `dim` keyword in `torch.sum`. Setting `dim=0` takes the sum across the rows while `dim=1` takes the sum across the columns."
   ]
  },
  {
   "cell_type": "code",
   "execution_count": 6,
   "metadata": {},
   "outputs": [
    {
     "name": "stdout",
     "output_type": "stream",
     "text": [
      "torch.Size([64, 10])\n",
      "tensor([ 1.0000,  1.0000,  1.0000,  1.0000,  1.0000,  1.0000,  1.0000,\n",
      "         1.0000,  1.0000,  1.0000,  1.0000,  1.0000,  1.0000,  1.0000,\n",
      "         1.0000,  1.0000,  1.0000,  1.0000,  1.0000,  1.0000,  1.0000,\n",
      "         1.0000,  1.0000,  1.0000,  1.0000,  1.0000,  1.0000,  1.0000,\n",
      "         1.0000,  1.0000,  1.0000,  1.0000,  1.0000,  1.0000,  1.0000,\n",
      "         1.0000,  1.0000,  1.0000,  1.0000,  1.0000,  1.0000,  1.0000,\n",
      "         1.0000,  1.0000,  1.0000,  1.0000,  1.0000,  1.0000,  1.0000,\n",
      "         1.0000,  1.0000,  1.0000,  1.0000,  1.0000,  1.0000,  1.0000,\n",
      "         1.0000,  1.0000,  1.0000,  1.0000,  1.0000,  1.0000,  1.0000,\n",
      "         1.0000])\n"
     ]
    }
   ],
   "source": [
    "def softmax(x):\n",
    "    ## TODO: Implement the softmax function here\n",
    "    return torch.exp(x)/torch.sum(torch.exp(x),dim=1).view(-1,1)\n",
    "\n",
    "# Here, out should be the output of the network in the previous excercise with shape (64,10)\n",
    "probabilities = softmax(out)\n",
    "\n",
    "# Does it have the right shape? Should be (64, 10)\n",
    "print(probabilities.shape)\n",
    "# Does it sum to 1?\n",
    "print(probabilities.sum(dim=1))"
   ]
  },
  {
   "cell_type": "markdown",
   "metadata": {},
   "source": [
    "## Building networks with PyTorch\n",
    "\n",
    "PyTorch provides a module `nn` that makes building networks much simpler. Here I'll show you how to build the same one as above with 784 inputs, 256 hidden units, 10 output units and a softmax output."
   ]
  },
  {
   "cell_type": "code",
   "execution_count": 7,
   "metadata": {},
   "outputs": [],
   "source": [
    "from torch import nn"
   ]
  },
  {
   "cell_type": "code",
   "execution_count": 8,
   "metadata": {},
   "outputs": [],
   "source": [
    "class Network(nn.Module):\n",
    "    def __init__(self):\n",
    "        super().__init__()\n",
    "        \n",
    "        # Inputs to hidden layer linear transformation\n",
    "        self.hidden = nn.Linear(784, 256)\n",
    "        # Output layer, 10 units - one for each digit\n",
    "        self.output = nn.Linear(256, 10)\n",
    "        \n",
    "        # Define sigmoid activation and softmax output \n",
    "        self.sigmoid = nn.Sigmoid()\n",
    "        self.softmax = nn.Softmax(dim=1)\n",
    "        \n",
    "    def forward(self, x):\n",
    "        # Pass the input tensor through each of our operations\n",
    "        x = self.hidden(x)\n",
    "        x = self.sigmoid(x)\n",
    "        x = self.output(x)\n",
    "        x = self.softmax(x)\n",
    "        \n",
    "        return x"
   ]
  },
  {
   "cell_type": "markdown",
   "metadata": {},
   "source": [
    "Let's go through this bit by bit.\n",
    "\n",
    "```python\n",
    "class Network(nn.Module):\n",
    "```\n",
    "\n",
    "Here we're inheriting from `nn.Module`. Combined with `super().__init__()` this creates a class that tracks the architecture and provides a lot of useful methods and attributes. It is mandatory to inherit from `nn.Module` when you're creating a class for your network. The name of the class itself can be anything.\n",
    "\n",
    "```python\n",
    "self.hidden = nn.Linear(784, 256)\n",
    "```\n",
    "\n",
    "This line creates a module for a linear transformation, $x\\mathbf{W} + b$, with 784 inputs and 256 outputs and assigns it to `self.hidden`. The module automatically creates the weight and bias tensors which we'll use in the `forward` method. You can access the weight and bias tensors once the network (`net`) is created with `net.hidden.weight` and `net.hidden.bias`.\n",
    "\n",
    "```python\n",
    "self.output = nn.Linear(256, 10)\n",
    "```\n",
    "\n",
    "Similarly, this creates another linear transformation with 256 inputs and 10 outputs.\n",
    "\n",
    "```python\n",
    "self.sigmoid = nn.Sigmoid()\n",
    "self.softmax = nn.Softmax(dim=1)\n",
    "```\n",
    "\n",
    "Here I defined operations for the sigmoid activation and softmax output. Setting `dim=1` in `nn.Softmax(dim=1)` calculates softmax across the columns.\n",
    "\n",
    "```python\n",
    "def forward(self, x):\n",
    "```\n",
    "\n",
    "PyTorch networks created with `nn.Module` must have a `forward` method defined. It takes in a tensor `x` and passes it through the operations you defined in the `__init__` method.\n",
    "\n",
    "```python\n",
    "x = self.hidden(x)\n",
    "x = self.sigmoid(x)\n",
    "x = self.output(x)\n",
    "x = self.softmax(x)\n",
    "```\n",
    "\n",
    "Here the input tensor `x` is passed through each operation a reassigned to `x`. We can see that the input tensor goes through the hidden layer, then a sigmoid function, then the output layer, and finally the softmax function. It doesn't matter what you name the variables here, as long as the inputs and outputs of the operations match the network architecture you want to build. The order in which you define things in the `__init__` method doesn't matter, but you'll need to sequence the operations correctly in the `forward` method.\n",
    "\n",
    "Now we can create a `Network` object."
   ]
  },
  {
   "cell_type": "code",
   "execution_count": 9,
   "metadata": {},
   "outputs": [
    {
     "data": {
      "text/plain": [
       "Network(\n",
       "  (hidden): Linear(in_features=784, out_features=256, bias=True)\n",
       "  (output): Linear(in_features=256, out_features=10, bias=True)\n",
       "  (sigmoid): Sigmoid()\n",
       "  (softmax): Softmax()\n",
       ")"
      ]
     },
     "execution_count": 9,
     "metadata": {},
     "output_type": "execute_result"
    }
   ],
   "source": [
    "# Create the network and look at it's text representation\n",
    "model = Network()\n",
    "model"
   ]
  },
  {
   "cell_type": "markdown",
   "metadata": {},
   "source": [
    "You can define the network somewhat more concisely and clearly using the `torch.nn.functional` module. This is the most common way you'll see networks defined as many operations are simple element-wise functions. We normally import this module as `F`, `import torch.nn.functional as F`."
   ]
  },
  {
   "cell_type": "code",
   "execution_count": 10,
   "metadata": {},
   "outputs": [],
   "source": [
    "import torch.nn.functional as F\n",
    "\n",
    "class Network(nn.Module):\n",
    "    def __init__(self):\n",
    "        super().__init__()\n",
    "        # Inputs to hidden layer linear transformation\n",
    "        self.hidden = nn.Linear(784, 256)\n",
    "        # Output layer, 10 units - one for each digit\n",
    "        self.output = nn.Linear(256, 10)\n",
    "        \n",
    "    def forward(self, x):\n",
    "        # Hidden layer with sigmoid activation\n",
    "        x = F.sigmoid(self.hidden(x))\n",
    "        # Output layer with softmax activation\n",
    "        x = F.softmax(self.output(x), dim=1)\n",
    "        \n",
    "        return x"
   ]
  },
  {
   "cell_type": "markdown",
   "metadata": {},
   "source": [
    "### Activation functions\n",
    "\n",
    "So far we've only been looking at the softmax activation, but in general any function can be used as an activation function. The only requirement is that for a network to approximate a non-linear function, the activation functions must be non-linear. Here are a few more examples of common activation functions: Tanh (hyperbolic tangent), and ReLU (rectified linear unit).\n",
    "\n",
    "<img src=\"assets/activation.png\" width=700px>\n",
    "\n",
    "In practice, the ReLU function is used almost exclusively as the activation function for hidden layers."
   ]
  },
  {
   "cell_type": "markdown",
   "metadata": {},
   "source": [
    "### Your Turn to Build a Network\n",
    "\n",
    "<img src=\"assets/mlp_mnist.png\" width=600px>\n",
    "\n",
    "> **Exercise:** Create a network with 784 input units, a hidden layer with 128 units and a ReLU activation, then a hidden layer with 64 units and a ReLU activation, and finally an output layer with a softmax activation as shown above. You can use a ReLU activation with the `nn.ReLU` module or `F.relu` function."
   ]
  },
  {
   "cell_type": "code",
   "execution_count": 11,
   "metadata": {
    "scrolled": true
   },
   "outputs": [
    {
     "data": {
      "text/plain": [
       "Classifier(\n",
       "  (fc1): Linear(in_features=784, out_features=128, bias=True)\n",
       "  (fc2): Linear(in_features=128, out_features=64, bias=True)\n",
       "  (fc3): Linear(in_features=64, out_features=10, bias=True)\n",
       ")"
      ]
     },
     "execution_count": 11,
     "metadata": {},
     "output_type": "execute_result"
    }
   ],
   "source": [
    "## Your solution here\n",
    "import torch.nn.functional as F\n",
    "\n",
    "class Classifier(nn.Module):\n",
    "    def __init__(self):\n",
    "        super().__init__()\n",
    "        \n",
    "        self.fc1 = nn.Linear(784,128)\n",
    "        self.fc2 = nn.Linear(128,64)\n",
    "        self.fc3 = nn.Linear(64,10)\n",
    "        \n",
    "    def forward(self,x):\n",
    "        x = F.relu(self.fc1(x))\n",
    "        x = F.relu(self.fc2(x))\n",
    "        x = F.softmax(self.fc3(x),dim=1)\n",
    "        return x\n",
    "\n",
    "model = Classifier()\n",
    "model"
   ]
  },
  {
   "cell_type": "markdown",
   "metadata": {},
   "source": [
    "### Initializing weights and biases\n",
    "\n",
    "The weights and such are automatically initialized for you, but it's possible to customize how they are initialized. The weights and biases are tensors attached to the layer you defined, you can get them with `model.fc1.weight` for instance."
   ]
  },
  {
   "cell_type": "code",
   "execution_count": 12,
   "metadata": {},
   "outputs": [
    {
     "name": "stdout",
     "output_type": "stream",
     "text": [
      "Parameter containing:\n",
      "tensor([[ 6.0760e-03, -1.7862e-02, -2.3971e-02,  ...,  1.4091e-02,\n",
      "          1.8039e-02, -1.2948e-02],\n",
      "        [ 1.8219e-02, -3.7189e-03,  2.0977e-02,  ...,  2.7200e-02,\n",
      "          2.5727e-02,  2.9253e-02],\n",
      "        [-2.1668e-02, -8.6108e-03,  2.0635e-02,  ...,  3.4039e-03,\n",
      "          2.1123e-02,  1.8059e-02],\n",
      "        ...,\n",
      "        [-1.6356e-02, -4.8509e-03, -3.3616e-02,  ...,  9.9480e-03,\n",
      "          5.1343e-03, -1.4723e-02],\n",
      "        [-7.9323e-03,  1.8597e-02,  3.5497e-02,  ...,  6.3559e-03,\n",
      "         -4.8609e-03, -2.6213e-02],\n",
      "        [-3.5229e-02, -3.4956e-02,  2.6150e-02,  ...,  1.8811e-02,\n",
      "         -3.0908e-02,  1.8115e-02]])\n",
      "Parameter containing:\n",
      "tensor(1.00000e-02 *\n",
      "       [-1.4955, -2.9361, -3.3296, -2.7560,  3.2777,  3.5595,  2.5845,\n",
      "         1.4870, -1.8464,  2.2832,  0.0541,  2.5448, -0.8217, -1.8805,\n",
      "        -0.7647,  0.9215,  0.1124, -2.7254,  0.2505, -3.0421,  1.1660,\n",
      "         1.1327,  2.2983, -1.0225,  2.4653, -1.6454,  2.8042,  0.9590,\n",
      "         1.1869,  0.1334,  0.2071, -0.7705,  1.6881,  1.7060, -2.1868,\n",
      "         0.7268,  3.5352,  3.4484,  3.4177,  2.2827, -1.8408, -0.0233,\n",
      "        -2.5737, -0.5770,  1.1071,  2.1914, -2.5042,  0.5622, -2.4034,\n",
      "         0.3463, -1.2921, -3.1210, -0.5034, -0.0631,  3.0392, -0.3707,\n",
      "        -2.2657,  0.3536, -1.3529, -0.5704, -3.0801,  3.3455, -1.7735,\n",
      "         0.2642, -0.3582, -0.3610,  2.3380, -1.1837, -2.6475, -1.2665,\n",
      "        -1.1501,  1.8947,  0.4213,  2.2826,  2.9241, -3.1773,  1.7109,\n",
      "         1.7426,  0.3378, -1.5311, -0.4502,  1.6833,  1.7025, -1.8293,\n",
      "        -1.0902, -3.4601, -0.5145, -3.1892, -1.1762,  3.4016, -0.9268,\n",
      "        -2.0881, -2.8129, -0.5630, -2.0505, -0.8206, -2.8098, -2.8950,\n",
      "         1.2880, -2.9629,  0.1793, -2.4414,  3.0297, -0.6383,  2.1147,\n",
      "         0.0238, -1.0630,  2.3447,  1.7090, -3.2045,  0.8623, -3.0051,\n",
      "        -0.5938, -1.0871, -2.0495, -3.4918, -2.3894, -1.1579,  0.8974,\n",
      "         2.2695,  3.0441, -2.0446, -3.2098, -0.3675,  0.4816,  3.0982,\n",
      "        -2.5428, -0.6819])\n"
     ]
    }
   ],
   "source": [
    "print(model.fc1.weight)\n",
    "print(model.fc1.bias)"
   ]
  },
  {
   "cell_type": "markdown",
   "metadata": {},
   "source": [
    "For custom initialization, we want to modify these tensors in place. These are actually autograd *Variables*, so we need to get back the actual tensors with `model.fc1.weight.data`. Once we have the tensors, we can fill them with zeros (for biases) or random normal values."
   ]
  },
  {
   "cell_type": "code",
   "execution_count": 13,
   "metadata": {},
   "outputs": [
    {
     "data": {
      "text/plain": [
       "tensor([ 0.,  0.,  0.,  0.,  0.,  0.,  0.,  0.,  0.,  0.,  0.,  0.,\n",
       "         0.,  0.,  0.,  0.,  0.,  0.,  0.,  0.,  0.,  0.,  0.,  0.,\n",
       "         0.,  0.,  0.,  0.,  0.,  0.,  0.,  0.,  0.,  0.,  0.,  0.,\n",
       "         0.,  0.,  0.,  0.,  0.,  0.,  0.,  0.,  0.,  0.,  0.,  0.,\n",
       "         0.,  0.,  0.,  0.,  0.,  0.,  0.,  0.,  0.,  0.,  0.,  0.,\n",
       "         0.,  0.,  0.,  0.,  0.,  0.,  0.,  0.,  0.,  0.,  0.,  0.,\n",
       "         0.,  0.,  0.,  0.,  0.,  0.,  0.,  0.,  0.,  0.,  0.,  0.,\n",
       "         0.,  0.,  0.,  0.,  0.,  0.,  0.,  0.,  0.,  0.,  0.,  0.,\n",
       "         0.,  0.,  0.,  0.,  0.,  0.,  0.,  0.,  0.,  0.,  0.,  0.,\n",
       "         0.,  0.,  0.,  0.,  0.,  0.,  0.,  0.,  0.,  0.,  0.,  0.,\n",
       "         0.,  0.,  0.,  0.,  0.,  0.,  0.,  0.])"
      ]
     },
     "execution_count": 13,
     "metadata": {},
     "output_type": "execute_result"
    }
   ],
   "source": [
    "# Set biases to all zeros\n",
    "model.fc1.bias.data.fill_(0)"
   ]
  },
  {
   "cell_type": "code",
   "execution_count": 14,
   "metadata": {},
   "outputs": [
    {
     "data": {
      "text/plain": [
       "tensor([[-8.8471e-04,  5.5490e-03,  6.5631e-03,  ...,  8.2166e-03,\n",
       "          1.6607e-02,  1.0865e-02],\n",
       "        [ 2.0588e-02,  1.1156e-02, -9.0319e-03,  ..., -4.0106e-03,\n",
       "          2.6353e-03, -1.1983e-02],\n",
       "        [ 5.9459e-03,  1.5172e-02,  9.7573e-03,  ...,  1.4050e-03,\n",
       "         -4.1710e-03,  7.1435e-03],\n",
       "        ...,\n",
       "        [ 6.9037e-03,  1.4245e-03,  6.8077e-03,  ..., -5.7545e-03,\n",
       "          6.1075e-04,  1.1982e-02],\n",
       "        [-1.3224e-04,  3.6609e-03,  4.9209e-03,  ...,  2.1141e-03,\n",
       "         -1.1368e-02, -8.1173e-03],\n",
       "        [ 3.8254e-03, -1.0230e-02,  3.6390e-03,  ...,  1.8736e-02,\n",
       "         -1.0699e-02,  1.1871e-02]])"
      ]
     },
     "execution_count": 14,
     "metadata": {},
     "output_type": "execute_result"
    }
   ],
   "source": [
    "# sample from random normal with standard dev = 0.01\n",
    "model.fc1.weight.data.normal_(std=0.01)"
   ]
  },
  {
   "cell_type": "markdown",
   "metadata": {},
   "source": [
    "### Forward pass\n",
    "\n",
    "Now that we have a network, let's see what happens when we pass in an image."
   ]
  },
  {
   "cell_type": "code",
   "execution_count": 15,
   "metadata": {},
   "outputs": [
    {
     "data": {
      "image/png": "[encoded data removed]",
      "text/plain": [
       "<matplotlib.figure.Figure at 0x7f550ab284a8>"
      ]
     },
     "metadata": {
      "image/png": {
       "height": 224,
       "width": 423
      },
      "needs_background": "light"
     },
     "output_type": "display_data"
    }
   ],
   "source": [
    "# Grab some data \n",
    "dataiter = iter(trainloader)\n",
    "images, labels = dataiter.next()\n",
    "\n",
    "# Resize images into a 1D vector, new shape is (batch size, color channels, image pixels) \n",
    "images.resize_(64, 1, 784)\n",
    "# or images.resize_(images.shape[0], 1, 784) to automatically get batch size\n",
    "\n",
    "# Forward pass through the network\n",
    "img_idx = 0\n",
    "ps = model.forward(images[img_idx,:])\n",
    "\n",
    "img = images[img_idx]\n",
    "helper.view_classify(img.view(1, 28, 28), ps)"
   ]
  },
  {
   "cell_type": "markdown",
   "metadata": {},
   "source": [
    "As you can see above, our network has basically no idea what this digit is. It's because we haven't trained it yet, all the weights are random!\n",
    "\n",
    "### Using `nn.Sequential`\n",
    "\n",
    "PyTorch provides a convenient way to build networks like this where a tensor is passed sequentially through operations, `nn.Sequential` ([documentation](https://pytorch.org/docs/master/nn.html#torch.nn.Sequential)). Using this to build the equivalent network:"
   ]
  },
  {
   "cell_type": "code",
   "execution_count": 16,
   "metadata": {},
   "outputs": [
    {
     "name": "stdout",
     "output_type": "stream",
     "text": [
      "Sequential(\n",
      "  (0): Linear(in_features=784, out_features=128, bias=True)\n",
      "  (1): ReLU()\n",
      "  (2): Linear(in_features=128, out_features=64, bias=True)\n",
      "  (3): ReLU()\n",
      "  (4): Linear(in_features=64, out_features=10, bias=True)\n",
      "  (5): Softmax()\n",
      ")\n"
     ]
    },
    {
     "data": {
      "image/png": "[encoded data removed]",
      "text/plain": [
       "<matplotlib.figure.Figure at 0x7f54b3c926a0>"
      ]
     },
     "metadata": {
      "image/png": {
       "height": 224,
       "width": 423
      },
      "needs_background": "light"
     },
     "output_type": "display_data"
    }
   ],
   "source": [
    "# Hyperparameters for our network\n",
    "input_size = 784\n",
    "hidden_sizes = [128, 64]\n",
    "output_size = 10\n",
    "\n",
    "# Build a feed-forward network\n",
    "model = nn.Sequential(nn.Linear(input_size, hidden_sizes[0]),\n",
    "                      nn.ReLU(),\n",
    "                      nn.Linear(hidden_sizes[0], hidden_sizes[1]),\n",
    "                      nn.ReLU(),\n",
    "                      nn.Linear(hidden_sizes[1], output_size),\n",
    "                      nn.Softmax(dim=1))\n",
    "print(model)\n",
    "\n",
    "# Forward pass through the network and display output\n",
    "images, labels = next(iter(trainloader))\n",
    "images.resize_(images.shape[0], 1, 784)\n",
    "ps = model.forward(images[0,:])\n",
    "helper.view_classify(images[0].view(1, 28, 28), ps)"
   ]
  },
  {
   "cell_type": "markdown",
   "metadata": {},
   "source": [
    "Here our model is the same as before: 784 input units, a hidden layer with 128 units, ReLU activation, 64 unit hidden layer, another ReLU, then the output layer with 10 units, and the softmax output.\n",
    "\n",
    "The operations are availble by passing in the appropriate index. For example, if you want to get first Linear operation and look at the weights, you'd use `model[0]`."
   ]
  },
  {
   "cell_type": "code",
   "execution_count": 17,
   "metadata": {},
   "outputs": [
    {
     "name": "stdout",
     "output_type": "stream",
     "text": [
      "Linear(in_features=784, out_features=128, bias=True)\n"
     ]
    },
    {
     "data": {
      "text/plain": [
       "Parameter containing:\n",
       "tensor([[ 2.4997e-02,  2.6945e-02, -2.2377e-02,  ...,  2.1755e-02,\n",
       "         -3.5852e-03, -2.5404e-02],\n",
       "        [-2.9161e-02,  1.4429e-02,  1.5657e-02,  ...,  3.9520e-03,\n",
       "          3.1946e-02,  2.1903e-02],\n",
       "        [ 3.4653e-02,  2.9087e-02, -9.3736e-03,  ...,  1.0776e-02,\n",
       "          7.4323e-03, -2.3854e-02],\n",
       "        ...,\n",
       "        [-1.9091e-04,  2.0598e-02,  3.5433e-03,  ...,  2.8936e-02,\n",
       "         -1.4660e-02, -2.9430e-02],\n",
       "        [ 1.5372e-02, -4.8730e-03,  3.0277e-04,  ...,  6.1831e-03,\n",
       "          1.3215e-03, -2.5290e-02],\n",
       "        [ 3.0853e-02, -1.7521e-02,  2.5872e-02,  ..., -3.4503e-02,\n",
       "         -3.3686e-02, -2.6321e-02]])"
      ]
     },
     "execution_count": 17,
     "metadata": {},
     "output_type": "execute_result"
    }
   ],
   "source": [
    "print(model[0])\n",
    "model[0].weight"
   ]
  },
  {
   "cell_type": "markdown",
   "metadata": {},
   "source": [
    "You can also pass in an `OrderedDict` to name the individual layers and operations, instead of using incremental integers. Note that dictionary keys must be unique, so _each operation must have a different name_."
   ]
  },
  {
   "cell_type": "code",
   "execution_count": 18,
   "metadata": {},
   "outputs": [
    {
     "data": {
      "text/plain": [
       "Sequential(\n",
       "  (fc1): Linear(in_features=784, out_features=128, bias=True)\n",
       "  (relu1): ReLU()\n",
       "  (fc2): Linear(in_features=128, out_features=64, bias=True)\n",
       "  (relu2): ReLU()\n",
       "  (output): Linear(in_features=64, out_features=10, bias=True)\n",
       "  (softmax): Softmax()\n",
       ")"
      ]
     },
     "execution_count": 18,
     "metadata": {},
     "output_type": "execute_result"
    }
   ],
   "source": [
    "from collections import OrderedDict\n",
    "model = nn.Sequential(OrderedDict([\n",
    "                      ('fc1', nn.Linear(input_size, hidden_sizes[0])),\n",
    "                      ('relu1', nn.ReLU()),\n",
    "                      ('fc2', nn.Linear(hidden_sizes[0], hidden_sizes[1])),\n",
    "                      ('relu2', nn.ReLU()),\n",
    "                      ('output', nn.Linear(hidden_sizes[1], output_size)),\n",
    "                      ('softmax', nn.Softmax(dim=1))]))\n",
    "model"
   ]
  },
  {
   "cell_type": "markdown",
   "metadata": {},
   "source": [
    "Now you can access layers either by integer or the name"
   ]
  },
  {
   "cell_type": "code",
   "execution_count": 19,
   "metadata": {},
   "outputs": [
    {
     "name": "stdout",
     "output_type": "stream",
     "text": [
      "Linear(in_features=784, out_features=128, bias=True)\n",
      "Linear(in_features=784, out_features=128, bias=True)\n"
     ]
    }
   ],
   "source": [
    "print(model[0])\n",
    "print(model.fc1)"
   ]
  },
  {
   "cell_type": "markdown",
   "metadata": {},
   "source": [
    "In the next notebook, we'll see how we can train a neural network to accuractly predict the numbers appearing in the MNIST images."
   ]
  }
 ],
 "metadata": {
  "kernelspec": {
   "display_name": "Python 3",
   "language": "python",
   "name": "python3"
  },
  "language_info": {
   "codemirror_mode": {
    "name": "ipython",
    "version": 3
   },
   "file_extension": ".py",
   "mimetype": "text/x-python",
   "name": "python",
   "nbconvert_exporter": "python",
   "pygments_lexer": "ipython3",
   "version": "3.6.3"
  }
 },
 "nbformat": 4,
 "nbformat_minor": 2
}
