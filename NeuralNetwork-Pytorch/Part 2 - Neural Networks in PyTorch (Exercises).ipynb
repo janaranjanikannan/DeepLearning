{
 "cells": [
  {
   "cell_type": "markdown",
   "metadata": {},
   "source": [
    "# Neural networks with PyTorch\n",
    "\n",
    "Deep learning networks tend to be massive with dozens or hundreds of layers, that's where the term \"deep\" comes from. You can build one of these deep networks using only weight matrices as we did in the previous notebook, but in general it's very cumbersome and difficult to implement. PyTorch has a nice module `nn` that provides a nice way to efficiently build large neural networks."
   ]
  },
  {
   "cell_type": "code",
   "execution_count": 1,
   "metadata": {},
   "outputs": [],
   "source": [
    "# Import necessary packages\n",
    "\n",
    "%matplotlib inline\n",
    "%config InlineBackend.figure_format = 'retina'\n",
    "\n",
    "import numpy as np\n",
    "import torch\n",
    "\n",
    "import helper\n",
    "\n",
    "import matplotlib.pyplot as plt"
   ]
  },
  {
   "cell_type": "markdown",
   "metadata": {},
   "source": [
    "\n",
    "Now we're going to build a larger network that can solve a (formerly) difficult problem, identifying text in an image. Here we'll use the MNIST dataset which consists of greyscale handwritten digits. Each image is 28x28 pixels, you can see a sample below\n",
    "\n",
    "<img src='assets/mnist.png'>\n",
    "\n",
    "Our goal is to build a neural network that can take one of these images and predict the digit in the image.\n",
    "\n",
    "First up, we need to get our dataset. This is provided through the `torchvision` package. The code below will download the MNIST dataset, then create training and test datasets for us. Don't worry too much about the details here, you'll learn more about this later."
   ]
  },
  {
   "cell_type": "code",
   "execution_count": 2,
   "metadata": {},
   "outputs": [
    {
     "name": "stdout",
     "output_type": "stream",
     "text": [
      "Downloading http://yann.lecun.com/exdb/mnist/train-images-idx3-ubyte.gz to C:\\Users\\balaranji/.pytorch/MNIST_data/MNIST\\raw\\train-images-idx3-ubyte.gz\n"
     ]
    },
    {
     "data": {
      "application/vnd.jupyter.widget-view+json": {
       "model_id": "ce35d28ca2bc4229894bc47000e79415",
       "version_major": 2,
       "version_minor": 0
      },
      "text/plain": [
       "|          | 0/? [00:00<?, ?it/s]"
      ]
     },
     "metadata": {},
     "output_type": "display_data"
    },
    {
     "name": "stdout",
     "output_type": "stream",
     "text": [
      "Extracting C:\\Users\\balaranji/.pytorch/MNIST_data/MNIST\\raw\\train-images-idx3-ubyte.gz to C:\\Users\\balaranji/.pytorch/MNIST_data/MNIST\\raw\n",
      "Downloading http://yann.lecun.com/exdb/mnist/train-labels-idx1-ubyte.gz to C:\\Users\\balaranji/.pytorch/MNIST_data/MNIST\\raw\\train-labels-idx1-ubyte.gz\n"
     ]
    },
    {
     "data": {
      "application/vnd.jupyter.widget-view+json": {
       "model_id": "5d9b61e258ba4a47ac314e8bbe667ce5",
       "version_major": 2,
       "version_minor": 0
      },
      "text/plain": [
       "|          | 0/? [00:00<?, ?it/s]"
      ]
     },
     "metadata": {},
     "output_type": "display_data"
    },
    {
     "name": "stdout",
     "output_type": "stream",
     "text": [
      "Extracting C:\\Users\\balaranji/.pytorch/MNIST_data/MNIST\\raw\\train-labels-idx1-ubyte.gz to C:\\Users\\balaranji/.pytorch/MNIST_data/MNIST\\raw\n",
      "Downloading http://yann.lecun.com/exdb/mnist/t10k-images-idx3-ubyte.gz to C:\\Users\\balaranji/.pytorch/MNIST_data/MNIST\\raw\\t10k-images-idx3-ubyte.gz\n"
     ]
    },
    {
     "data": {
      "application/vnd.jupyter.widget-view+json": {
       "model_id": "eebf904420f84d1a9c5738e8ffb76812",
       "version_major": 2,
       "version_minor": 0
      },
      "text/plain": [
       "|          | 0/? [00:00<?, ?it/s]"
      ]
     },
     "metadata": {},
     "output_type": "display_data"
    },
    {
     "name": "stdout",
     "output_type": "stream",
     "text": [
      "Extracting C:\\Users\\balaranji/.pytorch/MNIST_data/MNIST\\raw\\t10k-images-idx3-ubyte.gz to C:\\Users\\balaranji/.pytorch/MNIST_data/MNIST\\raw\n",
      "Downloading http://yann.lecun.com/exdb/mnist/t10k-labels-idx1-ubyte.gz to C:\\Users\\balaranji/.pytorch/MNIST_data/MNIST\\raw\\t10k-labels-idx1-ubyte.gz\n"
     ]
    },
    {
     "data": {
      "application/vnd.jupyter.widget-view+json": {
       "model_id": "8f894dc0d982463c9f0f7cbaee5f00d7",
       "version_major": 2,
       "version_minor": 0
      },
      "text/plain": [
       "|          | 0/? [00:00<?, ?it/s]"
      ]
     },
     "metadata": {},
     "output_type": "display_data"
    },
    {
     "name": "stdout",
     "output_type": "stream",
     "text": [
      "Extracting C:\\Users\\balaranji/.pytorch/MNIST_data/MNIST\\raw\\t10k-labels-idx1-ubyte.gz to C:\\Users\\balaranji/.pytorch/MNIST_data/MNIST\\raw\n",
      "Processing...\n"
     ]
    },
    {
     "name": "stderr",
     "output_type": "stream",
     "text": [
      "..\\torch\\csrc\\utils\\tensor_numpy.cpp:141: UserWarning: The given NumPy array is not writeable, and PyTorch does not support non-writeable tensors. This means you can write to the underlying (supposedly non-writeable) NumPy array using the tensor. You may want to copy the array to protect its data or make it writeable before converting it to a tensor. This type of warning will be suppressed for the rest of this program.\n"
     ]
    },
    {
     "name": "stdout",
     "output_type": "stream",
     "text": [
      "Done!\n"
     ]
    }
   ],
   "source": [
    "### Run this cell\n",
    "\n",
    "from torchvision import datasets, transforms\n",
    "\n",
    "# Define a transform to normalize the data\n",
    "transform = transforms.Compose([transforms.ToTensor(),\n",
    "                              transforms.Normalize((0.5,), (0.5,)),\n",
    "                              ])\n",
    "\n",
    "# Download and load the training data\n",
    "trainset = datasets.MNIST('~/.pytorch/MNIST_data/', download=True, train=True, transform=transform)\n",
    "trainloader = torch.utils.data.DataLoader(trainset, batch_size=64, shuffle=True)"
   ]
  },
  {
   "cell_type": "markdown",
   "metadata": {},
   "source": [
    "We have the training data loaded into `trainloader` and we make that an iterator with `iter(trainloader)`. Later, we'll use this to loop through the dataset for training, like\n",
    "\n",
    "```python\n",
    "for image, label in trainloader:\n",
    "    ## do things with images and labels\n",
    "```\n",
    "\n",
    "You'll notice I created the `trainloader` with a batch size of 64, and `shuffle=True`. The batch size is the number of images we get in one iteration from the data loader and pass through our network, often called a *batch*. And `shuffle=True` tells it to shuffle the dataset every time we start going through the data loader again. But here I'm just grabbing the first batch so we can check out the data. We can see below that `images` is just a tensor with size `(64, 1, 28, 28)`. So, 64 images per batch, 1 color channel, and 28x28 images."
   ]
  },
  {
   "cell_type": "code",
   "execution_count": 3,
   "metadata": {},
   "outputs": [
    {
     "name": "stdout",
     "output_type": "stream",
     "text": [
      "<class 'torch.Tensor'>\n",
      "torch.Size([64, 1, 28, 28])\n",
      "torch.Size([64])\n"
     ]
    }
   ],
   "source": [
    "dataiter = iter(trainloader)\n",
    "images, labels = dataiter.next()\n",
    "print(type(images))\n",
    "print(images.shape)\n",
    "print(labels.shape)"
   ]
  },
  {
   "cell_type": "markdown",
   "metadata": {},
   "source": [
    "This is what one of the images looks like. "
   ]
  },
  {
   "cell_type": "code",
   "execution_count": 4,
   "metadata": {},
   "outputs": [
    {
     "data": {
      "image/png": "[encoded data removed]",
      "text/plain": [
       "<Figure size 432x288 with 1 Axes>"
      ]
     },
     "metadata": {
      "image/png": {
       "height": 248,
       "width": 251
      },
      "needs_background": "light"
     },
     "output_type": "display_data"
    }
   ],
   "source": [
    "plt.imshow(images[1].numpy().squeeze(), cmap='Greys_r');"
   ]
  },
  {
   "cell_type": "markdown",
   "metadata": {},
   "source": [
    "First, let's try to build a simple network for this dataset using weight matrices and matrix multiplications. Then, we'll see how to do it using PyTorch's `nn` module which provides a much more convenient and powerful method for defining network architectures.\n",
    "\n",
    "The networks you've seen so far are called *fully-connected* or *dense* networks. Each unit in one layer is connected to each unit in the next layer. In fully-connected networks, the input to each layer must be a one-dimensional vector (which can be stacked into a 2D tensor as a batch of multiple examples). However, our images are 28x28 2D tensors, so we need to convert them into 1D vectors. Thinking about sizes, we need to convert the batch of images with shape `(64, 1, 28, 28)` to a have a shape of `(64, 784)`, 784 is 28 times 28. This is typically called *flattening*, we flattened the 2D images into 1D vectors.\n",
    "\n",
    "Previously you built a network with one output unit. Here we need 10 output units, one for each digit. We want our network to predict the digit shown in an image, so what we'll do is calculate probabilities that the image is of any one digit or class. This ends up being a discrete probability distribution over the classes (digits) that tells us the most likely class for the image. That means we need 10 output units for the 10 classes (digits). We'll see how to convert the network output into a probability distribution next.\n",
    "\n",
    "> **Exercise:** Flatten the batch of images `images`. Then build a multi-layer network with 784 input units, 256 hidden units, and 10 output units using random tensors for the weights and biases. For now, use a sigmoid activation for the hidden layer. Leave the output layer without an activation, we'll add one that gives us a probability distribution next."
   ]
  },
  {
   "cell_type": "code",
   "execution_count": 11,
   "metadata": {},
   "outputs": [
    {
     "data": {
      "text/plain": [
       "torch.Size([64, 10])"
      ]
     },
     "execution_count": 11,
     "metadata": {},
     "output_type": "execute_result"
    }
   ],
   "source": [
    "## Your solution\n",
    "activation = lambda x: 1/(1+torch.exp(-x))\n",
    "\n",
    "features = images.view(64,-1)\n",
    "n_input = features.shape[1]\n",
    "n_hidden = 256\n",
    "n_output = 10\n",
    "\n",
    "W1 = torch.randn(n_input, n_hidden)\n",
    "W2 = torch.randn(n_hidden, n_output)\n",
    "B1 = torch.randn(1, n_hidden)\n",
    "B2 = torch.randn(1, n_output)\n",
    "\n",
    "A1 = activation(torch.mm(features, W1) + B1)\n",
    "out = torch.mm(A1, W2) + B2 # output of your network, should have shape (64,10)\n",
    "out.shape"
   ]
  },
  {
   "cell_type": "code",
   "execution_count": 13,
   "metadata": {},
   "outputs": [
    {
     "data": {
      "text/plain": [
       "tensor([[ 1.2009e+01, -6.3938e+00,  2.1798e+00, -7.1392e+00,  1.5901e+01,\n",
       "          2.0208e+01,  5.9933e+00,  5.1771e+00,  5.5270e+00,  1.6558e+00],\n",
       "        [ 6.6888e+00, -4.7243e+00,  1.7928e+00, -1.1259e+01,  9.1272e+00,\n",
       "          1.0605e+01,  1.2521e+01,  8.1139e+00,  2.1420e+01, -1.0533e+01],\n",
       "        [-1.4422e+01, -1.2903e+01,  1.0362e+01, -1.0416e+01,  1.0111e+01,\n",
       "          2.5897e+01, -4.6666e+00,  2.3400e+00,  1.2742e+01, -8.7473e+00],\n",
       "        [ 7.5849e+00, -1.0582e+01,  4.8572e-01, -7.5750e+00,  5.7865e+00,\n",
       "          1.3354e+01,  4.6538e+00,  5.7957e-01,  2.4797e+01, -1.5251e+01],\n",
       "        [ 7.3974e+00, -1.7996e+01, -9.6239e-01, -1.4157e+01,  7.3022e+00,\n",
       "          1.9925e+01,  6.0211e-01, -4.4530e-01,  9.4985e+00, -1.2020e+01],\n",
       "        [ 2.7351e+00, -4.9389e+00,  7.8913e+00, -7.8250e+00,  2.1411e+01,\n",
       "          2.6765e+01,  2.8182e+00, -4.0063e+00,  1.8125e+01, -7.9274e+00],\n",
       "        [-9.7759e-01, -1.3975e+01,  1.1937e+01, -1.3562e+01,  1.5648e+01,\n",
       "          2.6177e+01,  1.0009e+01, -1.0441e+00,  1.7754e+01, -4.3048e+00],\n",
       "        [ 1.6790e+01, -1.1032e+01, -6.8174e+00, -1.1537e+01,  5.2685e+00,\n",
       "          1.7813e+01,  4.6866e+00, -5.5403e+00,  2.6218e+01, -4.0423e-01],\n",
       "        [-1.8626e+00, -1.2522e+00,  8.2954e+00, -1.0556e+01,  1.3883e+01,\n",
       "          1.0688e+01,  5.6972e+00, -7.0324e-02,  1.5024e+01, -1.8840e+00],\n",
       "        [-1.2817e+01, -7.8037e+00, -2.5263e-02, -1.1482e+01,  1.0252e+01,\n",
       "          1.4747e+01,  7.5446e+00,  2.5977e+00,  2.0521e+01, -1.3566e+01],\n",
       "        [ 1.4990e+01, -1.1814e+01,  1.0509e+01, -6.2091e+00,  1.5788e+01,\n",
       "          1.8529e+01,  6.5853e-01,  3.3228e-01,  1.5367e+01, -1.2764e+01],\n",
       "        [ 8.0301e+00, -8.8987e+00, -2.2707e+00, -1.4608e+01, -3.5549e+00,\n",
       "          1.8115e+01,  1.3598e+01, -4.4150e+00,  2.1065e+01, -1.0463e+01],\n",
       "        [-8.8868e+00, -6.7233e+00,  1.2423e+01, -6.8520e+00,  1.4769e+01,\n",
       "          1.4048e+01,  3.2108e+00,  6.2972e+00,  1.2504e+01, -1.6374e+01],\n",
       "        [-6.9596e+00, -1.0886e+01,  1.7550e+01, -1.9937e+01,  5.5944e+00,\n",
       "          1.9408e+01,  1.5964e-01,  9.4377e+00,  1.8110e+01, -1.1277e+01],\n",
       "        [ 9.3951e+00, -1.0176e+01,  4.4763e+00, -1.9046e+01,  1.1244e+01,\n",
       "          2.4555e+01,  1.0000e+01,  8.0771e+00,  1.4758e+01, -2.0135e+01],\n",
       "        [ 5.1410e-01, -9.3507e+00,  7.2960e+00, -6.6394e+00,  2.0200e+01,\n",
       "          1.8138e+01,  1.4946e+00,  3.5504e+00,  1.7636e+01, -6.4346e-02],\n",
       "        [ 1.8285e+00, -1.0427e+01, -1.2002e+01,  1.3081e+00,  6.6057e+00,\n",
       "          1.8471e+01,  6.8225e+00, -2.7158e-01,  1.5371e+01, -1.0235e+01],\n",
       "        [ 1.2948e+01, -9.4651e+00, -2.9660e+00, -3.2437e+00,  8.6103e+00,\n",
       "          2.3458e+01,  5.9664e-01,  2.7501e+00,  2.7894e+01, -2.9613e+00],\n",
       "        [ 3.6874e+00, -8.1646e+00, -8.4953e-01, -1.0349e+01,  1.2811e+01,\n",
       "          1.8850e+01,  5.0930e+00,  3.4588e+00,  6.8827e+00,  1.0740e+00],\n",
       "        [-1.8132e+01,  2.7998e+00,  2.1250e+00,  1.0551e-01,  8.1221e+00,\n",
       "          2.0454e+01,  9.1417e-02,  1.1024e+01,  1.1358e+01, -9.0824e+00],\n",
       "        [ 1.4648e+01, -6.6230e+00,  9.1896e+00, -2.8076e+00,  1.3617e+01,\n",
       "          2.7196e+01, -4.7727e+00,  7.9278e+00,  2.1853e+01, -1.1012e+00],\n",
       "        [-1.2265e+00, -7.3302e+00,  1.6506e+01, -1.1414e+01,  1.5893e+01,\n",
       "          9.8963e+00,  2.2290e+00,  7.3390e+00,  1.5395e+01, -5.5346e+00],\n",
       "        [-1.5035e+00, -4.7667e+00,  1.0292e+01, -8.7491e+00,  1.1012e+01,\n",
       "          2.6245e+01,  3.5217e+00,  9.5933e+00,  1.0380e+01, -1.7134e+01],\n",
       "        [ 8.1530e+00, -8.9782e+00,  8.4918e+00, -9.2216e+00,  4.6631e+00,\n",
       "          2.2210e+01, -4.1757e+00,  1.0464e+00,  2.0209e+01, -8.5931e+00],\n",
       "        [ 1.0365e+01, -7.8934e+00,  4.5956e+00, -1.3576e+01,  5.6636e+00,\n",
       "          1.7632e+01,  1.2546e+01,  1.3456e+01,  1.8861e+01, -1.1248e+01],\n",
       "        [ 8.8595e+00, -5.5651e+00,  6.3307e+00, -1.8306e+01,  1.4362e+01,\n",
       "          1.9478e+01,  6.0435e+00,  6.3862e+00,  2.6164e+00, -4.4431e+00],\n",
       "        [ 6.2840e+00, -6.4890e+00,  9.0032e+00, -1.0455e+01,  1.8205e+01,\n",
       "          1.8307e+01,  4.1059e+00,  8.4889e+00,  2.3232e+01,  1.5875e+00],\n",
       "        [ 3.8200e+00, -2.9417e+00,  6.4607e+00, -1.3918e+01,  2.0049e+01,\n",
       "          3.1498e+01,  1.3631e+01, -7.0563e+00,  1.8722e+01, -6.2782e+00],\n",
       "        [ 2.1395e+00, -6.1368e+00,  1.2139e+01, -1.4886e+01,  2.7344e+01,\n",
       "          2.4662e+01,  2.3325e+00, -4.8946e-01,  2.0002e+01, -1.5148e+00],\n",
       "        [-3.1856e+00, -1.2537e+01,  1.1368e+01, -1.1969e+01,  8.0200e+00,\n",
       "          1.9397e+01,  6.8667e+00,  2.7698e-01,  1.0337e+01, -2.1210e+01],\n",
       "        [ 8.1285e+00, -6.7582e+00, -6.4657e-01, -1.2172e+01,  8.9087e+00,\n",
       "          2.3162e+01, -1.2127e+00,  2.9268e-01,  1.2272e+01, -5.8186e+00],\n",
       "        [-1.6864e+00, -1.6584e+00,  1.1576e+01, -1.3455e+01,  1.6445e+01,\n",
       "          9.0260e+00,  1.7273e+00,  1.6598e+01,  1.1516e+01, -1.0545e-01],\n",
       "        [ 4.2206e+00, -1.0063e+00,  1.6236e+01, -7.4313e+00,  1.5265e+01,\n",
       "          2.3300e+01, -3.4908e-01,  1.3089e+01,  1.7753e+01, -4.5309e+00],\n",
       "        [-5.0697e-02, -9.7732e+00,  9.0167e+00, -2.1576e+01,  1.4808e+01,\n",
       "          2.3455e+01, -7.1920e+00,  1.8004e+00,  2.0552e+01, -6.4511e+00],\n",
       "        [ 9.7761e+00, -1.2291e+01,  3.1618e+00, -1.0038e+01,  1.3820e+01,\n",
       "          1.7803e+01,  3.2986e+00,  2.6765e+00,  2.6450e+01, -7.6990e+00],\n",
       "        [ 2.7293e+00, -1.1336e+01,  1.1217e+01, -9.7919e+00,  2.0182e+01,\n",
       "          8.5156e+00, -1.7782e+00,  9.8012e+00,  2.0155e+01, -2.5456e+00],\n",
       "        [ 8.7045e+00, -1.2954e+01,  8.6602e+00, -1.8001e+01,  1.7100e+01,\n",
       "          2.2654e+01,  5.7194e+00,  1.0712e+01,  1.1118e+01, -7.5672e+00],\n",
       "        [-4.3784e+00, -3.6505e+00,  6.9754e+00, -1.3764e+01,  1.2151e+01,\n",
       "          1.2576e+01, -3.9927e+00,  1.9027e+00,  1.1413e+00, -1.1260e+01],\n",
       "        [ 7.2370e+00, -6.5608e+00,  4.1989e+00, -9.2841e+00,  1.4515e+01,\n",
       "          2.4426e+01, -2.9070e+00,  4.4654e+00,  1.3740e+01, -9.1371e+00],\n",
       "        [ 8.7266e+00, -1.3492e+01,  7.5389e+00, -1.2316e+01,  1.6132e+01,\n",
       "          1.6369e+01, -1.7037e+00, -1.0503e+00,  1.4248e+01, -1.2330e+01],\n",
       "        [-9.3630e+00, -4.0316e+00,  1.2758e+01, -1.4712e+01,  1.3364e+01,\n",
       "          2.1130e+01,  4.4124e+00,  1.1872e+01,  1.1100e+01, -1.8582e+01],\n",
       "        [ 7.9403e+00, -7.8311e+00,  7.5983e+00, -1.6410e+01,  1.6215e+01,\n",
       "          1.3483e+01,  1.9949e+00,  5.5860e+00,  1.2567e+01, -6.6431e+00],\n",
       "        [ 6.3303e+00, -2.2085e+00,  1.0279e+01, -1.2547e+01,  1.1707e+01,\n",
       "          1.1498e+01,  1.3443e+01,  7.4658e-01,  2.3409e+01, -4.8843e+00],\n",
       "        [ 5.4998e+00, -6.4323e+00,  5.2395e+00, -1.9519e+01,  6.7197e+00,\n",
       "          1.9656e+01,  2.2548e+00, -6.0119e+00,  1.0445e+01, -1.1142e+01],\n",
       "        [ 5.7539e-01, -1.7634e+01,  1.2806e+00, -1.0419e+01,  1.1787e+01,\n",
       "          3.0159e+01,  2.5855e+00,  1.8622e+00,  2.0074e+01, -3.0973e+00],\n",
       "        [ 8.1707e+00, -8.2735e+00,  7.1733e+00, -1.4544e+01,  1.2768e+01,\n",
       "          2.3122e+01,  3.9435e+00,  2.9142e+00,  1.5704e+01, -4.7491e+00],\n",
       "        [ 1.6027e+00, -1.2934e+01,  1.9002e+01, -1.4307e+01,  1.6709e+01,\n",
       "          1.7728e+01, -3.3653e+00, -1.2707e+00,  9.5633e+00, -7.4789e+00],\n",
       "        [-6.7687e+00, -9.5418e+00,  9.4464e+00, -1.1485e+01,  1.2348e+01,\n",
       "          2.7957e+01, -6.6878e+00,  1.5277e+01,  5.6978e+00, -1.1549e+01],\n",
       "        [ 6.5055e+00, -4.2989e+00,  3.3811e+00, -3.0007e+00,  1.3826e+01,\n",
       "          1.4680e+01,  9.2250e+00,  5.6346e+00,  1.9848e+01,  3.4410e+00],\n",
       "        [ 6.7624e+00, -1.0930e+01, -1.2668e+00, -1.1226e+01,  1.4833e+01,\n",
       "          1.8645e+01,  1.1913e+01, -9.1941e-01,  1.4419e+01, -5.9448e+00],\n",
       "        [ 1.3825e+00, -5.3194e+00,  5.2016e+00, -8.3968e+00,  1.6584e+01,\n",
       "          1.4720e+01,  2.2496e+00,  6.0441e+00,  1.8884e+01, -1.2165e+01],\n",
       "        [ 3.1029e+00, -1.0418e+01,  5.6701e+00, -1.2756e+00,  9.9164e+00,\n",
       "          2.5367e+01,  9.5376e+00,  3.7573e+00,  1.2136e+01, -1.6681e+01],\n",
       "        [ 5.6205e+00, -5.3022e+00, -3.9052e+00, -5.1867e+00,  9.6538e+00,\n",
       "          1.3944e+01,  8.0719e+00,  6.5232e+00,  1.5111e+01, -7.4983e-01],\n",
       "        [ 9.4216e+00, -9.4820e+00,  4.7335e+00, -3.3341e+00,  1.8851e+01,\n",
       "          2.1654e+01,  3.0765e+00,  3.4165e+00,  1.6861e+01, -1.9619e+00],\n",
       "        [-1.0829e+00, -1.1436e+01,  1.0100e+01, -8.4636e+00,  2.1704e+01,\n",
       "          2.2154e+01,  5.1263e+00,  7.6276e+00,  1.0095e+01, -1.3129e+01],\n",
       "        [ 1.6072e+01, -1.0371e+01,  3.3072e-01, -4.9545e+00,  6.5008e+00,\n",
       "          2.7002e+01,  7.1990e+00,  7.5310e+00,  2.6965e+01,  1.7782e+00],\n",
       "        [ 6.2167e+00, -1.2115e+01,  1.4005e+01, -1.5886e+01,  1.6461e+01,\n",
       "          1.9304e+01, -3.5290e+00,  2.7294e+00,  1.5283e+01, -7.1647e+00],\n",
       "        [ 3.8678e+00, -7.8301e+00,  1.2376e+01, -1.9144e+01,  1.1010e+01,\n",
       "          2.0406e+01,  5.9269e+00,  8.7587e+00,  2.0498e+01, -5.6706e+00],\n",
       "        [-2.2189e+00, -6.8261e+00,  1.0984e+00, -2.9899e+00,  1.3571e+01,\n",
       "          1.7596e+01, -4.0127e+00,  7.1105e+00,  1.5027e+01, -2.6008e+00],\n",
       "        [ 1.8697e+00, -7.8682e-01,  7.5956e+00, -1.3291e+01,  1.5516e+01,\n",
       "          1.5605e+01, -1.5451e+00,  5.1954e+00,  1.5825e+01, -7.2655e+00],\n",
       "        [ 2.0054e+01, -2.7078e+00,  9.9509e+00, -1.8264e+01,  1.7783e+01,\n",
       "          2.0994e+01,  1.3554e+00,  5.9465e+00,  1.8493e+01, -9.8480e+00],\n",
       "        [ 1.5488e+01, -1.5005e+01,  7.9102e+00, -1.2853e+01,  9.3953e+00,\n",
       "          9.1425e+00, -3.1643e-01,  4.4418e+00,  2.1954e+01, -1.4763e+01],\n",
       "        [ 3.6368e+00, -3.7951e+00,  1.4191e+01, -1.1932e+01,  8.0649e+00,\n",
       "          1.2203e+01,  1.4395e+00,  9.9046e+00,  1.4621e+01, -2.4578e+00],\n",
       "        [ 6.5427e+00, -6.6503e+00,  8.2212e+00, -1.2703e+01,  1.0775e+01,\n",
       "          1.3056e+01, -1.4842e+00, -1.8931e+00,  2.0036e+01, -5.0587e+00]])"
      ]
     },
     "execution_count": 13,
     "metadata": {},
     "output_type": "execute_result"
    }
   ],
   "source": [
    "out"
   ]
  },
  {
   "cell_type": "markdown",
   "metadata": {},
   "source": [
    "Now we have 10 outputs for our network. We want to pass in an image to our network and get out a probability distribution over the classes that tells us the likely class(es) the image belongs to. Something that looks like this:\n",
    "<img src='assets/image_distribution.png' width=500px>\n",
    "\n",
    "Here we see that the probability for each class is roughly the same. This is representing an untrained network, it hasn't seen any data yet so it just returns a uniform distribution with equal probabilities for each class.\n",
    "\n",
    "To calculate this probability distribution, we often use the [**softmax** function](https://en.wikipedia.org/wiki/Softmax_function). Mathematically this looks like\n",
    "\n",
    "$$\n",
    "\\Large \\sigma(x_i) = \\cfrac{e^{x_i}}{\\sum_k^K{e^{x_k}}}\n",
    "$$\n",
    "\n",
    "What this does is squish each input $x_i$ between 0 and 1 and normalizes the values to give you a proper probability distribution where the probabilites sum up to one.\n",
    "\n",
    "> **Exercise:** Implement a function `softmax` that performs the softmax calculation and returns probability distributions for each example in the batch. Note that you'll need to pay attention to the shapes when doing this. If you have a tensor `a` with shape `(64, 10)` and a tensor `b` with shape `(64,)`, doing `a/b` will give you an error because PyTorch will try to do the division across the columns (called broadcasting) but you'll get a size mismatch. The way to think about this is for each of the 64 examples, you only want to divide by one value, the sum in the denominator. So you need `b` to have a shape of `(64, 1)`. This way PyTorch will divide the 10 values in each row of `a` by the one value in each row of `b`. Pay attention to how you take the sum as well. You'll need to define the `dim` keyword in `torch.sum`. Setting `dim=0` takes the sum across the rows while `dim=1` takes the sum across the columns."
   ]
  },
  {
   "cell_type": "code",
   "execution_count": 14,
   "metadata": {},
   "outputs": [
    {
     "name": "stdout",
     "output_type": "stream",
     "text": [
      "torch.Size([64, 10])\n",
      "tensor([1.0000, 1.0000, 1.0000, 1.0000, 1.0000, 1.0000, 1.0000, 1.0000, 1.0000,\n",
      "        1.0000, 1.0000, 1.0000, 1.0000, 1.0000, 1.0000, 1.0000, 1.0000, 1.0000,\n",
      "        1.0000, 1.0000, 1.0000, 1.0000, 1.0000, 1.0000, 1.0000, 1.0000, 1.0000,\n",
      "        1.0000, 1.0000, 1.0000, 1.0000, 1.0000, 1.0000, 1.0000, 1.0000, 1.0000,\n",
      "        1.0000, 1.0000, 1.0000, 1.0000, 1.0000, 1.0000, 1.0000, 1.0000, 1.0000,\n",
      "        1.0000, 1.0000, 1.0000, 1.0000, 1.0000, 1.0000, 1.0000, 1.0000, 1.0000,\n",
      "        1.0000, 1.0000, 1.0000, 1.0000, 1.0000, 1.0000, 1.0000, 1.0000, 1.0000,\n",
      "        1.0000])\n"
     ]
    }
   ],
   "source": [
    "def softmax(x):\n",
    "    ## TODO: Implement the softmax function here\n",
    "    d_sum = torch.sum(torch.exp(x), dim = 1)\n",
    "    return torch.exp(x)/d_sum.view(-1,1)\n",
    "\n",
    "# Here, out should be the output of the network in the previous excercise with shape (64,10)\n",
    "probabilities = softmax(out)\n",
    "\n",
    "# Does it have the right shape? Should be (64, 10)\n",
    "print(probabilities.shape)\n",
    "# Does it sum to 1?\n",
    "print(probabilities.sum(dim=1))"
   ]
  },
  {
   "cell_type": "markdown",
   "metadata": {},
   "source": [
    "## Building networks with PyTorch\n",
    "\n",
    "PyTorch provides a module `nn` that makes building networks much simpler. Here I'll show you how to build the same one as above with 784 inputs, 256 hidden units, 10 output units and a softmax output."
   ]
  },
  {
   "cell_type": "code",
   "execution_count": 15,
   "metadata": {},
   "outputs": [],
   "source": [
    "from torch import nn"
   ]
  },
  {
   "cell_type": "code",
   "execution_count": 16,
   "metadata": {},
   "outputs": [],
   "source": [
    "class Network(nn.Module):\n",
    "    def __init__(self):\n",
    "        super().__init__()\n",
    "        \n",
    "        # Inputs to hidden layer linear transformation\n",
    "        self.hidden = nn.Linear(784, 256)\n",
    "        # Output layer, 10 units - one for each digit\n",
    "        self.output = nn.Linear(256, 10)\n",
    "        \n",
    "        # Define sigmoid activation and softmax output \n",
    "        self.sigmoid = nn.Sigmoid()\n",
    "        self.softmax = nn.Softmax(dim=1)\n",
    "        \n",
    "    def forward(self, x):\n",
    "        # Pass the input tensor through each of our operations\n",
    "        x = self.hidden(x)\n",
    "        x = self.sigmoid(x)\n",
    "        x = self.output(x)\n",
    "        x = self.softmax(x)\n",
    "        \n",
    "        return x"
   ]
  },
  {
   "cell_type": "markdown",
   "metadata": {},
   "source": [
    "Let's go through this bit by bit.\n",
    "\n",
    "```python\n",
    "class Network(nn.Module):\n",
    "```\n",
    "\n",
    "Here we're inheriting from `nn.Module`. Combined with `super().__init__()` this creates a class that tracks the architecture and provides a lot of useful methods and attributes. It is mandatory to inherit from `nn.Module` when you're creating a class for your network. The name of the class itself can be anything.\n",
    "\n",
    "```python\n",
    "self.hidden = nn.Linear(784, 256)\n",
    "```\n",
    "\n",
    "This line creates a module for a linear transformation, $x\\mathbf{W} + b$, with 784 inputs and 256 outputs and assigns it to `self.hidden`. The module automatically creates the weight and bias tensors which we'll use in the `forward` method. You can access the weight and bias tensors once the network (`net`) is created with `net.hidden.weight` and `net.hidden.bias`.\n",
    "\n",
    "```python\n",
    "self.output = nn.Linear(256, 10)\n",
    "```\n",
    "\n",
    "Similarly, this creates another linear transformation with 256 inputs and 10 outputs.\n",
    "\n",
    "```python\n",
    "self.sigmoid = nn.Sigmoid()\n",
    "self.softmax = nn.Softmax(dim=1)\n",
    "```\n",
    "\n",
    "Here I defined operations for the sigmoid activation and softmax output. Setting `dim=1` in `nn.Softmax(dim=1)` calculates softmax across the columns.\n",
    "\n",
    "```python\n",
    "def forward(self, x):\n",
    "```\n",
    "\n",
    "PyTorch networks created with `nn.Module` must have a `forward` method defined. It takes in a tensor `x` and passes it through the operations you defined in the `__init__` method.\n",
    "\n",
    "```python\n",
    "x = self.hidden(x)\n",
    "x = self.sigmoid(x)\n",
    "x = self.output(x)\n",
    "x = self.softmax(x)\n",
    "```\n",
    "\n",
    "Here the input tensor `x` is passed through each operation and reassigned to `x`. We can see that the input tensor goes through the hidden layer, then a sigmoid function, then the output layer, and finally the softmax function. It doesn't matter what you name the variables here, as long as the inputs and outputs of the operations match the network architecture you want to build. The order in which you define things in the `__init__` method doesn't matter, but you'll need to sequence the operations correctly in the `forward` method.\n",
    "\n",
    "Now we can create a `Network` object."
   ]
  },
  {
   "cell_type": "code",
   "execution_count": 17,
   "metadata": {},
   "outputs": [
    {
     "data": {
      "text/plain": [
       "Network(\n",
       "  (hidden): Linear(in_features=784, out_features=256, bias=True)\n",
       "  (output): Linear(in_features=256, out_features=10, bias=True)\n",
       "  (sigmoid): Sigmoid()\n",
       "  (softmax): Softmax(dim=1)\n",
       ")"
      ]
     },
     "execution_count": 17,
     "metadata": {},
     "output_type": "execute_result"
    }
   ],
   "source": [
    "# Create the network and look at it's text representation\n",
    "model = Network()\n",
    "model"
   ]
  },
  {
   "cell_type": "markdown",
   "metadata": {},
   "source": [
    "You can define the network somewhat more concisely and clearly using the `torch.nn.functional` module. This is the most common way you'll see networks defined as many operations are simple element-wise functions. We normally import this module as `F`, `import torch.nn.functional as F`."
   ]
  },
  {
   "cell_type": "code",
   "execution_count": 18,
   "metadata": {},
   "outputs": [],
   "source": [
    "import torch.nn.functional as F\n",
    "\n",
    "class Network(nn.Module):\n",
    "    def __init__(self):\n",
    "        super().__init__()\n",
    "        # Inputs to hidden layer linear transformation\n",
    "        self.hidden = nn.Linear(784, 256)\n",
    "        # Output layer, 10 units - one for each digit\n",
    "        self.output = nn.Linear(256, 10)\n",
    "        \n",
    "    def forward(self, x):\n",
    "        # Hidden layer with sigmoid activation\n",
    "        x = F.sigmoid(self.hidden(x))\n",
    "        # Output layer with softmax activation\n",
    "        x = F.softmax(self.output(x), dim=1)\n",
    "        \n",
    "        return x"
   ]
  },
  {
   "cell_type": "markdown",
   "metadata": {},
   "source": [
    "### Activation functions\n",
    "\n",
    "So far we've only been looking at the sigmoid activation function, but in general any function can be used as an activation function. The only requirement is that for a network to approximate a non-linear function, the activation functions must be non-linear. Here are a few more examples of common activation functions: Tanh (hyperbolic tangent), and ReLU (rectified linear unit).\n",
    "\n",
    "<img src=\"assets/activation.png\" width=700px>\n",
    "\n",
    "In practice, the ReLU function is used almost exclusively as the activation function for hidden layers."
   ]
  },
  {
   "cell_type": "markdown",
   "metadata": {},
   "source": [
    "### Your Turn to Build a Network\n",
    "\n",
    "<img src=\"assets/mlp_mnist.png\" width=600px>\n",
    "\n",
    "> **Exercise:** Create a network with 784 input units, a hidden layer with 128 units and a ReLU activation, then a hidden layer with 64 units and a ReLU activation, and finally an output layer with a softmax activation as shown above. You can use a ReLU activation with the `nn.ReLU` module or `F.relu` function.\n",
    "\n",
    "It's good practice to name your layers by their type of network, for instance 'fc' to represent a fully-connected layer. As you code your solution, use `fc1`, `fc2`, and `fc3` as your layer names."
   ]
  },
  {
   "cell_type": "code",
   "execution_count": 24,
   "metadata": {
    "scrolled": true
   },
   "outputs": [
    {
     "data": {
      "text/plain": [
       "Classifier(\n",
       "  (fc1): Linear(in_features=784, out_features=128, bias=True)\n",
       "  (fc2): Linear(in_features=128, out_features=64, bias=True)\n",
       "  (fc3): Linear(in_features=64, out_features=1, bias=True)\n",
       ")"
      ]
     },
     "execution_count": 24,
     "metadata": {},
     "output_type": "execute_result"
    }
   ],
   "source": [
    "## Your solution here\n",
    "class Classifier(nn.Module):\n",
    "    def __init__(self):\n",
    "        super().__init__()\n",
    "        self.fc1 = nn.Linear(784, 128)\n",
    "        self.fc2 = nn.Linear(128, 64)\n",
    "        self.fc3 = nn.Linear(64, 1)\n",
    "        \n",
    "    def forward(self, x):\n",
    "        x = F.relu(self.fc1(x))\n",
    "        x = F.relu(self.fc2(x))\n",
    "        x = F.softmax(self.fc3(x))\n",
    "        return x\n",
    "        \n",
    "model = Classifier()\n",
    "model"
   ]
  },
  {
   "cell_type": "markdown",
   "metadata": {},
   "source": [
    "### Initializing weights and biases\n",
    "\n",
    "The weights and such are automatically initialized for you, but it's possible to customize how they are initialized. The weights and biases are tensors attached to the layer you defined, you can get them with `model.fc1.weight` for instance."
   ]
  },
  {
   "cell_type": "code",
   "execution_count": 25,
   "metadata": {},
   "outputs": [
    {
     "name": "stdout",
     "output_type": "stream",
     "text": [
      "Parameter containing:\n",
      "tensor([[ 0.0239,  0.0205,  0.0082,  ...,  0.0213,  0.0038,  0.0273],\n",
      "        [ 0.0007, -0.0148, -0.0075,  ...,  0.0204,  0.0232,  0.0319],\n",
      "        [-0.0101, -0.0131,  0.0198,  ..., -0.0047, -0.0284,  0.0003],\n",
      "        ...,\n",
      "        [-0.0252,  0.0082,  0.0116,  ...,  0.0246, -0.0099, -0.0061],\n",
      "        [-0.0078,  0.0355,  0.0085,  ...,  0.0316,  0.0274, -0.0319],\n",
      "        [ 0.0299, -0.0310,  0.0282,  ..., -0.0239,  0.0342,  0.0091]],\n",
      "       requires_grad=True)\n",
      "Parameter containing:\n",
      "tensor([-0.0271,  0.0082,  0.0258, -0.0066,  0.0353,  0.0096, -0.0142,  0.0181,\n",
      "        -0.0351,  0.0291,  0.0281, -0.0318,  0.0290, -0.0352,  0.0208, -0.0037,\n",
      "         0.0147,  0.0053,  0.0303, -0.0239, -0.0009, -0.0087, -0.0201, -0.0198,\n",
      "        -0.0070, -0.0322, -0.0157,  0.0159, -0.0218,  0.0085, -0.0340, -0.0247,\n",
      "         0.0034, -0.0340,  0.0053,  0.0121, -0.0259,  0.0331,  0.0214,  0.0075,\n",
      "         0.0204, -0.0264,  0.0104, -0.0083, -0.0147, -0.0316,  0.0116,  0.0125,\n",
      "        -0.0022,  0.0047,  0.0130, -0.0170,  0.0336, -0.0312,  0.0122, -0.0166,\n",
      "        -0.0235, -0.0333,  0.0273, -0.0085,  0.0106,  0.0050,  0.0204, -0.0043,\n",
      "        -0.0050, -0.0141, -0.0181,  0.0274, -0.0320, -0.0320, -0.0247, -0.0037,\n",
      "         0.0215, -0.0195,  0.0318, -0.0176, -0.0261,  0.0211,  0.0240,  0.0272,\n",
      "        -0.0107,  0.0039,  0.0143, -0.0210, -0.0076,  0.0282, -0.0099, -0.0148,\n",
      "        -0.0024, -0.0172, -0.0121,  0.0349, -0.0212,  0.0306,  0.0028,  0.0151,\n",
      "        -0.0058, -0.0119, -0.0323, -0.0142, -0.0027,  0.0095, -0.0107, -0.0152,\n",
      "        -0.0132,  0.0005,  0.0134,  0.0344, -0.0210,  0.0244, -0.0346, -0.0050,\n",
      "         0.0142, -0.0291, -0.0179, -0.0212, -0.0311, -0.0321, -0.0295, -0.0173,\n",
      "         0.0011, -0.0257,  0.0141, -0.0157,  0.0338, -0.0026, -0.0056,  0.0156],\n",
      "       requires_grad=True)\n"
     ]
    }
   ],
   "source": [
    "print(model.fc1.weight)\n",
    "print(model.fc1.bias)"
   ]
  },
  {
   "cell_type": "markdown",
   "metadata": {},
   "source": [
    "For custom initialization, we want to modify these tensors in place. These are actually autograd *Variables*, so we need to get back the actual tensors with `model.fc1.weight.data`. Once we have the tensors, we can fill them with zeros (for biases) or random normal values."
   ]
  },
  {
   "cell_type": "code",
   "execution_count": 26,
   "metadata": {},
   "outputs": [
    {
     "data": {
      "text/plain": [
       "tensor([0., 0., 0., 0., 0., 0., 0., 0., 0., 0., 0., 0., 0., 0., 0., 0., 0., 0., 0., 0., 0., 0., 0., 0.,\n",
       "        0., 0., 0., 0., 0., 0., 0., 0., 0., 0., 0., 0., 0., 0., 0., 0., 0., 0., 0., 0., 0., 0., 0., 0.,\n",
       "        0., 0., 0., 0., 0., 0., 0., 0., 0., 0., 0., 0., 0., 0., 0., 0., 0., 0., 0., 0., 0., 0., 0., 0.,\n",
       "        0., 0., 0., 0., 0., 0., 0., 0., 0., 0., 0., 0., 0., 0., 0., 0., 0., 0., 0., 0., 0., 0., 0., 0.,\n",
       "        0., 0., 0., 0., 0., 0., 0., 0., 0., 0., 0., 0., 0., 0., 0., 0., 0., 0., 0., 0., 0., 0., 0., 0.,\n",
       "        0., 0., 0., 0., 0., 0., 0., 0.])"
      ]
     },
     "execution_count": 26,
     "metadata": {},
     "output_type": "execute_result"
    }
   ],
   "source": [
    "# Set biases to all zeros\n",
    "model.fc1.bias.data.fill_(0)"
   ]
  },
  {
   "cell_type": "code",
   "execution_count": 28,
   "metadata": {},
   "outputs": [
    {
     "data": {
      "text/plain": [
       "tensor([[ 0.0026, -0.0011,  0.0104,  ..., -0.0068, -0.0133,  0.0087],\n",
       "        [ 0.0073,  0.0114,  0.0020,  ..., -0.0013, -0.0108,  0.0128],\n",
       "        [-0.0107,  0.0132, -0.0002,  ..., -0.0051, -0.0018,  0.0077],\n",
       "        ...,\n",
       "        [-0.0110,  0.0195,  0.0025,  ..., -0.0177,  0.0181, -0.0104],\n",
       "        [ 0.0086,  0.0103,  0.0031,  ...,  0.0031,  0.0030,  0.0184],\n",
       "        [-0.0160,  0.0092, -0.0113,  ..., -0.0160,  0.0177,  0.0098]])"
      ]
     },
     "execution_count": 28,
     "metadata": {},
     "output_type": "execute_result"
    }
   ],
   "source": [
    "# sample from random normal with standard dev = 0.01\n",
    "model.fc1.weight.data.normal_(std=0.01)"
   ]
  },
  {
   "cell_type": "markdown",
   "metadata": {},
   "source": [
    "### Forward pass\n",
    "\n",
    "Now that we have a network, let's see what happens when we pass in an image."
   ]
  },
  {
   "cell_type": "code",
   "execution_count": 29,
   "metadata": {},
   "outputs": [
    {
     "name": "stderr",
     "output_type": "stream",
     "text": [
      "C:\\Users\\balaranji\\anaconda3\\lib\\site-packages\\ipykernel_launcher.py:12: UserWarning: Implicit dimension choice for softmax has been deprecated. Change the call to include dim=X as an argument.\n",
      "  if sys.path[0] == '':\n"
     ]
    },
    {
     "data": {
      "image/png": "[encoded data removed]",
      "text/plain": [
       "<Figure size 432x648 with 2 Axes>"
      ]
     },
     "metadata": {
      "image/png": {
       "height": 235,
       "width": 424
      },
      "needs_background": "light"
     },
     "output_type": "display_data"
    }
   ],
   "source": [
    "# Grab some data \n",
    "dataiter = iter(trainloader)\n",
    "images, labels = dataiter.next()\n",
    "\n",
    "# Resize images into a 1D vector, new shape is (batch size, color channels, image pixels) \n",
    "images.resize_(64, 1, 784)\n",
    "# or images.resize_(images.shape[0], 1, 784) to automatically get batch size\n",
    "\n",
    "# Forward pass through the network\n",
    "img_idx = 0\n",
    "ps = model.forward(images[img_idx,:])\n",
    "\n",
    "img = images[img_idx]\n",
    "helper.view_classify(img.view(1, 28, 28), ps)"
   ]
  },
  {
   "cell_type": "markdown",
   "metadata": {},
   "source": [
    "As you can see above, our network has basically no idea what this digit is. It's because we haven't trained it yet, all the weights are random!\n",
    "\n",
    "### Using `nn.Sequential`\n",
    "\n",
    "PyTorch provides a convenient way to build networks like this where a tensor is passed sequentially through operations, `nn.Sequential` ([documentation](https://pytorch.org/docs/master/nn.html#torch.nn.Sequential)). Using this to build the equivalent network:"
   ]
  },
  {
   "cell_type": "code",
   "execution_count": 30,
   "metadata": {},
   "outputs": [
    {
     "name": "stdout",
     "output_type": "stream",
     "text": [
      "Sequential(\n",
      "  (0): Linear(in_features=784, out_features=128, bias=True)\n",
      "  (1): ReLU()\n",
      "  (2): Linear(in_features=128, out_features=64, bias=True)\n",
      "  (3): ReLU()\n",
      "  (4): Linear(in_features=64, out_features=10, bias=True)\n",
      "  (5): Softmax(dim=1)\n",
      ")\n"
     ]
    },
    {
     "data": {
      "image/png": "[encoded data removed]",
      "text/plain": [
       "<Figure size 432x648 with 2 Axes>"
      ]
     },
     "metadata": {
      "image/png": {
       "height": 235,
       "width": 424
      },
      "needs_background": "light"
     },
     "output_type": "display_data"
    }
   ],
   "source": [
    "# Hyperparameters for our network\n",
    "input_size = 784\n",
    "hidden_sizes = [128, 64]\n",
    "output_size = 10\n",
    "\n",
    "# Build a feed-forward network\n",
    "model = nn.Sequential(nn.Linear(input_size, hidden_sizes[0]),\n",
    "                      nn.ReLU(),\n",
    "                      nn.Linear(hidden_sizes[0], hidden_sizes[1]),\n",
    "                      nn.ReLU(),\n",
    "                      nn.Linear(hidden_sizes[1], output_size),\n",
    "                      nn.Softmax(dim=1))\n",
    "print(model)\n",
    "\n",
    "# Forward pass through the network and display output\n",
    "images, labels = next(iter(trainloader))\n",
    "images.resize_(images.shape[0], 1, 784)\n",
    "ps = model.forward(images[0,:])\n",
    "helper.view_classify(images[0].view(1, 28, 28), ps)"
   ]
  },
  {
   "cell_type": "markdown",
   "metadata": {},
   "source": [
    "Here our model is the same as before: 784 input units, a hidden layer with 128 units, ReLU activation, 64 unit hidden layer, another ReLU, then the output layer with 10 units, and the softmax output.\n",
    "\n",
    "The operations are available by passing in the appropriate index. For example, if you want to get first Linear operation and look at the weights, you'd use `model[0]`."
   ]
  },
  {
   "cell_type": "code",
   "execution_count": null,
   "metadata": {
    "collapsed": true,
    "jupyter": {
     "outputs_hidden": true
    }
   },
   "outputs": [],
   "source": [
    "print(model[0])\n",
    "model[0].weight"
   ]
  },
  {
   "cell_type": "markdown",
   "metadata": {},
   "source": [
    "You can also pass in an `OrderedDict` to name the individual layers and operations, instead of using incremental integers. Note that dictionary keys must be unique, so _each operation must have a different name_."
   ]
  },
  {
   "cell_type": "code",
   "execution_count": null,
   "metadata": {
    "collapsed": true,
    "jupyter": {
     "outputs_hidden": true
    }
   },
   "outputs": [],
   "source": [
    "from collections import OrderedDict\n",
    "model = nn.Sequential(OrderedDict([\n",
    "                      ('fc1', nn.Linear(input_size, hidden_sizes[0])),\n",
    "                      ('relu1', nn.ReLU()),\n",
    "                      ('fc2', nn.Linear(hidden_sizes[0], hidden_sizes[1])),\n",
    "                      ('relu2', nn.ReLU()),\n",
    "                      ('output', nn.Linear(hidden_sizes[1], output_size)),\n",
    "                      ('softmax', nn.Softmax(dim=1))]))\n",
    "model"
   ]
  },
  {
   "cell_type": "markdown",
   "metadata": {},
   "source": [
    "Now you can access layers either by integer or the name"
   ]
  },
  {
   "cell_type": "code",
   "execution_count": null,
   "metadata": {
    "collapsed": true,
    "jupyter": {
     "outputs_hidden": true
    }
   },
   "outputs": [],
   "source": [
    "print(model[0])\n",
    "print(model.fc1)"
   ]
  },
  {
   "cell_type": "markdown",
   "metadata": {},
   "source": [
    "In the next notebook, we'll see how we can train a neural network to accuractly predict the numbers appearing in the MNIST images."
   ]
  }
 ],
 "metadata": {
  "kernelspec": {
   "display_name": "Python 3",
   "language": "python",
   "name": "python3"
  },
  "language_info": {
   "codemirror_mode": {
    "name": "ipython",
    "version": 3
   },
   "file_extension": ".py",
   "mimetype": "text/x-python",
   "name": "python",
   "nbconvert_exporter": "python",
   "pygments_lexer": "ipython3",
   "version": "3.7.9"
  }
 },
 "nbformat": 4,
 "nbformat_minor": 4
}
