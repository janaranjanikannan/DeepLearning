{
 "cells": [
  {
   "cell_type": "markdown",
   "metadata": {},
   "source": [
    "# Neural networks with PyTorch\n",
    "\n",
    "Deep learning networks tend to be massive with dozens or hundreds of layers, that's where the term \"deep\" comes from. You can build one of these deep networks using only weight matrices as we did in the previous notebook, but in general it's very cumbersome and difficult to implement. PyTorch has a nice module `nn` that provides a nice way to efficiently build large neural networks."
   ]
  },
  {
   "cell_type": "code",
   "execution_count": 1,
   "metadata": {},
   "outputs": [],
   "source": [
    "# Import necessary packages\n",
    "\n",
    "%matplotlib inline\n",
    "%config InlineBackend.figure_format = 'retina'\n",
    "\n",
    "import numpy as np\n",
    "import torch\n",
    "\n",
    "import helper\n",
    "\n",
    "import matplotlib.pyplot as plt"
   ]
  },
  {
   "cell_type": "markdown",
   "metadata": {},
   "source": [
    "\n",
    "Now we're going to build a larger network that can solve a (formerly) difficult problem, identifying text in an image. Here we'll use the MNIST dataset which consists of greyscale handwritten digits. Each image is 28x28 pixels, you can see a sample below\n",
    "\n",
    "<img src='assets/mnist.png'>\n",
    "\n",
    "Our goal is to build a neural network that can take one of these images and predict the digit in the image.\n",
    "\n",
    "First up, we need to get our dataset. This is provided through the `torchvision` package. The code below will download the MNIST dataset, then create training and test datasets for us. Don't worry too much about the details here, you'll learn more about this later."
   ]
  },
  {
   "cell_type": "code",
   "execution_count": 2,
   "metadata": {},
   "outputs": [],
   "source": [
    "### Run this cell\n",
    "\n",
    "from torchvision import datasets, transforms\n",
    "\n",
    "# Define a transform to normalize the data\n",
    "transform = transforms.Compose([transforms.ToTensor(),\n",
    "                              transforms.Normalize((0.5,), (0.5,)),\n",
    "                              ])\n",
    "\n",
    "# Download and load the training data\n",
    "trainset = datasets.MNIST('~/.pytorch/MNIST_data/', download=True, train=True, transform=transform)\n",
    "trainloader = torch.utils.data.DataLoader(trainset, batch_size=64, shuffle=True)"
   ]
  },
  {
   "cell_type": "markdown",
   "metadata": {},
   "source": [
    "We have the training data loaded into `trainloader` and we make that an iterator with `iter(trainloader)`. Later, we'll use this to loop through the dataset for training, like\n",
    "\n",
    "```python\n",
    "for image, label in trainloader:\n",
    "    ## do things with images and labels\n",
    "```\n",
    "\n",
    "You'll notice I created the `trainloader` with a batch size of 64, and `shuffle=True`. The batch size is the number of images we get in one iteration from the data loader and pass through our network, often called a *batch*. And `shuffle=True` tells it to shuffle the dataset every time we start going through the data loader again. But here I'm just grabbing the first batch so we can check out the data. We can see below that `images` is just a tensor with size `(64, 1, 28, 28)`. So, 64 images per batch, 1 color channel, and 28x28 images."
   ]
  },
  {
   "cell_type": "code",
   "execution_count": 3,
   "metadata": {},
   "outputs": [
    {
     "name": "stdout",
     "output_type": "stream",
     "text": [
      "<class 'torch.Tensor'>\n",
      "torch.Size([64, 1, 28, 28])\n",
      "torch.Size([64])\n"
     ]
    }
   ],
   "source": [
    "dataiter = iter(trainloader)\n",
    "images, labels = dataiter.next()\n",
    "print(type(images))\n",
    "print(images.shape)\n",
    "print(labels.shape)"
   ]
  },
  {
   "cell_type": "markdown",
   "metadata": {},
   "source": [
    "This is what one of the images looks like. "
   ]
  },
  {
   "cell_type": "code",
   "execution_count": 4,
   "metadata": {},
   "outputs": [
    {
     "data": {
      "image/png": "[encoded data removed]",
      "text/plain": [
       "<Figure size 432x288 with 1 Axes>"
      ]
     },
     "metadata": {
      "image/png": {
       "height": 248,
       "width": 251
      },
      "needs_background": "light"
     },
     "output_type": "display_data"
    }
   ],
   "source": [
    "plt.imshow(images[1].numpy().squeeze(), cmap='Greys_r');"
   ]
  },
  {
   "cell_type": "markdown",
   "metadata": {},
   "source": [
    "First, let's try to build a simple network for this dataset using weight matrices and matrix multiplications. Then, we'll see how to do it using PyTorch's `nn` module which provides a much more convenient and powerful method for defining network architectures.\n",
    "\n",
    "The networks you've seen so far are called *fully-connected* or *dense* networks. Each unit in one layer is connected to each unit in the next layer. In fully-connected networks, the input to each layer must be a one-dimensional vector (which can be stacked into a 2D tensor as a batch of multiple examples). However, our images are 28x28 2D tensors, so we need to convert them into 1D vectors. Thinking about sizes, we need to convert the batch of images with shape `(64, 1, 28, 28)` to a have a shape of `(64, 784)`, 784 is 28 times 28. This is typically called *flattening*, we flattened the 2D images into 1D vectors.\n",
    "\n",
    "Previously you built a network with one output unit. Here we need 10 output units, one for each digit. We want our network to predict the digit shown in an image, so what we'll do is calculate probabilities that the image is of any one digit or class. This ends up being a discrete probability distribution over the classes (digits) that tells us the most likely class for the image. That means we need 10 output units for the 10 classes (digits). We'll see how to convert the network output into a probability distribution next.\n",
    "\n",
    "> **Exercise:** Flatten the batch of images `images`. Then build a multi-layer network with 784 input units, 256 hidden units, and 10 output units using random tensors for the weights and biases. For now, use a sigmoid activation for the hidden layer. Leave the output layer without an activation, we'll add one that gives us a probability distribution next."
   ]
  },
  {
   "cell_type": "code",
   "execution_count": 5,
   "metadata": {},
   "outputs": [
    {
     "data": {
      "text/plain": [
       "torch.Size([64, 10])"
      ]
     },
     "execution_count": 5,
     "metadata": {},
     "output_type": "execute_result"
    }
   ],
   "source": [
    "## Your solution\n",
    "activation = lambda x: 1/(1+torch.exp(-x))\n",
    "\n",
    "features = images.view(64,-1)\n",
    "n_input = features.shape[1]\n",
    "n_hidden = 256\n",
    "n_output = 10\n",
    "\n",
    "W1 = torch.randn(n_input, n_hidden)\n",
    "W2 = torch.randn(n_hidden, n_output)\n",
    "B1 = torch.randn(1, n_hidden)\n",
    "B2 = torch.randn(1, n_output)\n",
    "\n",
    "A1 = activation(torch.mm(features, W1) + B1)\n",
    "out = torch.mm(A1, W2) + B2 # output of your network, should have shape (64,10)\n",
    "out.shape"
   ]
  },
  {
   "cell_type": "code",
   "execution_count": 6,
   "metadata": {},
   "outputs": [
    {
     "data": {
      "text/plain": [
       "tensor([[ 10.8228,  -7.8779,  -3.7748,  -9.1036,   4.5383,   3.6702,   7.2877,\n",
       "         -22.4038, -10.1176,  -6.2163],\n",
       "        [ 18.6263, -15.4484,  -1.4506, -22.7072, -12.7028,  -9.3329,  12.4274,\n",
       "         -11.9531,  -2.5214,  -5.9483],\n",
       "        [  8.2493, -16.2662,  -7.8519, -20.9581,  -3.3032, -10.9156,  16.4191,\n",
       "         -14.6577,   1.8726, -16.7262],\n",
       "        [  2.6603,  -9.8400,   6.2241, -12.9640,  -4.9489,   5.7801,   7.7619,\n",
       "         -11.3710,   1.8756,   0.7427],\n",
       "        [  6.8059,   0.8145, -12.2680,  -6.7918,   5.0100,  -1.8997,   8.3690,\n",
       "          -9.3348,   7.0269,   3.1259],\n",
       "        [  7.0014, -14.2877,  -1.7409, -15.8129,  -2.1587, -10.7622,  12.4685,\n",
       "         -19.9978,  -1.3904,  -3.2572],\n",
       "        [ 12.3065, -17.4121,  -0.5504, -10.6136, -10.8487,  -1.5532,  -0.6929,\n",
       "         -24.5560,  -9.4060,  -5.9074],\n",
       "        [  9.4817, -10.7786,   4.6368, -19.1165,  -5.9274,   0.6725,   4.1501,\n",
       "         -17.7325,   4.1330,   6.6964],\n",
       "        [ 13.4437,  -8.1087,  -0.6384, -22.2821,  -2.3228,  -4.7187,   5.4774,\n",
       "         -12.4934,   0.5365,  -4.6563],\n",
       "        [ -2.1774, -16.8791,   3.2490, -14.8980,   0.5300,  -9.3072,   8.6912,\n",
       "         -16.7982,  -1.4227,   5.3226],\n",
       "        [ 11.3856, -19.1051,  -8.3207, -15.7522,   2.9315,  -8.9220,   9.2898,\n",
       "         -15.1037,  -3.5537,  -2.1770],\n",
       "        [  8.1676, -12.0448,  -0.5955, -21.4030, -14.6154,  -9.5048,  -2.5591,\n",
       "         -14.4572,  -7.6892,  -3.6815],\n",
       "        [ -0.3448, -14.6381,   1.9892,  -8.4616,  -8.9914, -11.7592,  11.8304,\n",
       "         -12.6707,  -7.1999,  -9.2024],\n",
       "        [ 12.5936,  -6.2441, -10.2211, -26.5102,  -5.4246, -13.2237,  10.2854,\n",
       "         -12.1704,  12.9521,  -2.1504],\n",
       "        [  4.0931, -11.8400,  -3.7682, -25.1538, -13.1583, -10.4022,   7.9269,\n",
       "         -17.4158,   6.6950, -11.1338],\n",
       "        [  9.5145, -18.0789,  -6.7016, -17.4355,  -8.3410,  -8.0523,  16.1585,\n",
       "          -7.5760,   1.0756, -18.4518],\n",
       "        [  1.2009, -13.3294,  -5.0006, -21.1985,   1.5122,  -8.9419,  17.0342,\n",
       "         -14.7762,  -3.5087, -11.2690],\n",
       "        [ 15.3258,  -8.9821,  -2.2193, -14.5294,   4.9669,  -3.9680,   5.7100,\n",
       "         -20.7384,   6.0282,   2.1130],\n",
       "        [  8.7172,  -5.1071,   3.2421,  -8.8106,  -3.2496,  10.2493,   2.7703,\n",
       "          -8.8352,   0.2859,  -0.8069],\n",
       "        [  4.1719, -18.8017,  -5.1228, -14.9794,  -9.4307,   1.2214,   6.3438,\n",
       "         -11.6628,   1.8056,  -3.2700],\n",
       "        [ 11.8488, -13.7904,  -6.4979, -14.7469,  -6.1748,  -0.0307,   9.9121,\n",
       "         -19.2164,  -6.6146,  -1.0426],\n",
       "        [ 12.3680, -12.0811,  -1.2781, -27.8363, -13.5747, -17.0593,  10.7793,\n",
       "         -19.2087,   6.0211,  -1.0808],\n",
       "        [ 10.4392, -16.7443,   4.0801, -16.5723,  -6.2115,  -2.1222,  10.0000,\n",
       "         -23.7731,  -0.7751,  -3.1954],\n",
       "        [  1.9608,  -3.3417,  -5.1153,  -9.2050,  10.6655,  -6.9257,   7.7187,\n",
       "          -8.3300,   4.2157,  -1.6896],\n",
       "        [  8.6656,  -5.2624,  -6.4244, -26.3157,  -7.1819,  -8.7869,   7.8458,\n",
       "          -8.5210,   0.9144,  -6.1530],\n",
       "        [ 11.9600, -20.4201,  -2.0861, -18.8110,  -3.4836,  -5.9186,  18.2693,\n",
       "          -9.9304,   2.0445, -11.9490],\n",
       "        [  7.7079,  -9.3698,   2.4042, -23.1724,  -9.3529,  -5.1897,  10.9233,\n",
       "          -7.3662,   0.1677,  -8.4760],\n",
       "        [ 21.1373, -11.8466,  -9.0424, -22.3128,  -5.5863,  -6.9093,  -2.3035,\n",
       "         -11.9639,   7.4093,  -2.5332],\n",
       "        [  7.7590, -13.3524,  -7.0111, -22.4307,  -0.1211, -20.8374,   8.4571,\n",
       "          -7.5362,  -9.3384,   3.3256],\n",
       "        [  8.2144,  -9.8122,  -3.8877, -21.2419,  -2.4085, -12.9717,   8.4257,\n",
       "          -9.0697,   5.4018,  -6.4652],\n",
       "        [ 11.1194, -12.4215,  -8.6651, -15.8018,  -8.7219,  -4.4516,   1.7074,\n",
       "         -15.2725,  -5.2542,   7.4224],\n",
       "        [ -0.5505,  -0.6619,  -9.2194,  -7.1060,  -6.8201,   1.9023,   0.3485,\n",
       "         -11.5152,   8.1100,   0.5765],\n",
       "        [  7.6102, -13.3223,   1.3935,  -4.2882, -10.6782,   0.7978,   6.5730,\n",
       "         -17.5161,   1.4393,  -1.1359],\n",
       "        [ 16.2933,  -9.0596,   8.1793, -21.7720, -15.2773, -10.9676,   6.1853,\n",
       "         -15.1288,  -3.5077,   4.6153],\n",
       "        [  9.3592, -11.9675,  -4.8344, -28.7790, -10.8188, -22.3081,  11.2882,\n",
       "         -10.6456,   5.6080, -16.9121],\n",
       "        [  9.2776, -16.2700,  -8.3635, -18.8306,  -5.5488,  -6.9088,  15.1723,\n",
       "          -6.8265,  -3.3865, -15.5368],\n",
       "        [  0.1209, -14.0607,  -4.2741, -15.2216,  -3.3405, -11.3633,   4.3543,\n",
       "          -9.7195,  -4.9736,  -8.8816],\n",
       "        [  1.1078, -12.9094,  -4.9835, -22.5571,  -8.7426,  -7.4042,  12.7810,\n",
       "         -10.8920,  -5.2690,  -1.6886],\n",
       "        [  5.6599, -11.1638,  -6.3032, -16.2976,  -5.7931,  -5.5165,  12.0210,\n",
       "         -16.4637,  -4.5964, -11.0955],\n",
       "        [  9.2490, -23.8113,   5.9510, -19.6430, -13.1433,  -1.8411,   2.7941,\n",
       "         -11.1400,  -7.0815,   3.6379],\n",
       "        [ 18.0965,  -7.1473,   1.9451, -25.6315, -12.0781, -12.7342,   7.7758,\n",
       "         -23.3502,   4.1771,  -4.7073],\n",
       "        [  4.9021, -15.8288,  -3.2064, -19.0918,  -8.3650,  -7.7750,  14.0571,\n",
       "         -13.2651,   4.5060, -10.9326],\n",
       "        [ -0.6153,  -5.9644,  -1.2304, -18.2489, -10.4336, -12.5386,   9.8090,\n",
       "         -12.1571,  -0.6139,  -8.6125],\n",
       "        [ 13.4900, -16.7610,   4.2462, -29.6127, -14.5955, -18.1682,  11.1698,\n",
       "         -14.6429,   3.0166,  -4.6055],\n",
       "        [  7.8011, -18.1460,  -7.9515, -22.4397,  -4.4185, -10.8566,  16.8870,\n",
       "         -12.9595,   1.6675, -19.1658],\n",
       "        [ 14.4844,  -9.0886, -10.9265,  -8.1531,  -4.8740,  -3.0055,  13.1540,\n",
       "          -8.7262,   1.4617,  -1.5164],\n",
       "        [  6.0442, -11.1859,  -0.2726, -16.2114, -15.2763,  -8.4914,   3.0221,\n",
       "          -7.6455,   6.8775,  -4.7069],\n",
       "        [  3.5427,  -5.7292, -10.2492,  -5.8450,   1.6542, -10.0810,  11.4352,\n",
       "         -18.0780,   0.4286,  -1.9565],\n",
       "        [  5.4403, -20.9364,   0.4651, -16.0098,   2.7845,  -6.8546,   5.1238,\n",
       "         -13.5067,  -5.5673,  -5.6607],\n",
       "        [ -1.2957, -11.6364,  -6.3635, -11.3408,  -0.4976,  -0.9438,  12.9682,\n",
       "         -16.5455,  -2.2001,  -2.9350],\n",
       "        [ 13.2558, -10.1750,   5.0422, -21.0698, -16.7262,  -2.4729,   1.6259,\n",
       "          -6.0757,  -2.3631,  -6.8940],\n",
       "        [ 12.7251,  -7.3955,  -3.0935,  -7.1383,  -4.2171,  -4.8147,   8.3184,\n",
       "         -15.8391,   1.2058,   3.9191],\n",
       "        [ -2.4278,  -8.8321,  -5.3688, -11.5535,  -3.3888,  -7.0900,  12.1623,\n",
       "         -16.2528,  -0.5433,   7.4925],\n",
       "        [  9.7875,  -4.7216,  -8.1491, -21.9871, -10.1142, -11.4638,   7.4737,\n",
       "          -9.0216,  -1.6986,  -9.9940],\n",
       "        [  7.5188, -15.3214,  -7.1791, -22.1195,  -9.0954,  -6.6864,   9.1073,\n",
       "         -14.0920,   1.2111,  -6.6049],\n",
       "        [ 11.9779, -11.4888,  -0.6956, -21.9162,  -6.2479,  -7.2296,  12.5588,\n",
       "         -14.6353, -11.0231,   2.0332],\n",
       "        [  8.7853,  -3.2435,  -6.5478, -15.9499,   3.8211,  -7.9364,   7.0372,\n",
       "         -15.4517,   3.7701,  -5.5172],\n",
       "        [ 10.0453,  -8.2465,   7.5372, -16.0086, -16.4756,   3.5753,   5.1816,\n",
       "         -20.1652,   4.2450,   2.0189],\n",
       "        [ 13.6985,  -1.4128,   5.6504,  -8.9014,   3.2068,  -9.7184,  11.3615,\n",
       "          -8.5067,  -1.9101,  -1.4120],\n",
       "        [ 12.8229,  -5.9553,  -1.9888, -10.9302,  -7.5451,  -1.7796,   4.4294,\n",
       "         -22.9913,   3.1631,   1.4183],\n",
       "        [  5.5171, -11.8427,  -6.4424, -14.6932,  -6.3384,  -8.6151,  17.7145,\n",
       "         -15.1079,  -2.8935, -11.9734],\n",
       "        [ 12.7992, -10.9927,  -0.8321, -14.8491,  -5.4126,  -3.8951,   8.7869,\n",
       "         -18.5689,  -0.7027,  -7.8431],\n",
       "        [  5.6716, -16.3447,  -0.1098,  -8.7821, -15.3427,   4.0435,   9.3876,\n",
       "         -19.2032,  -6.4778,  -1.8726],\n",
       "        [  9.8032,  -5.7450,  -7.2648, -21.1838, -11.3127,  -9.5748,  11.4547,\n",
       "         -10.6515,   2.1917, -12.5911]])"
      ]
     },
     "execution_count": 6,
     "metadata": {},
     "output_type": "execute_result"
    }
   ],
   "source": [
    "out"
   ]
  },
  {
   "cell_type": "markdown",
   "metadata": {},
   "source": [
    "Now we have 10 outputs for our network. We want to pass in an image to our network and get out a probability distribution over the classes that tells us the likely class(es) the image belongs to. Something that looks like this:\n",
    "<img src='assets/image_distribution.png' width=500px>\n",
    "\n",
    "Here we see that the probability for each class is roughly the same. This is representing an untrained network, it hasn't seen any data yet so it just returns a uniform distribution with equal probabilities for each class.\n",
    "\n",
    "To calculate this probability distribution, we often use the [**softmax** function](https://en.wikipedia.org/wiki/Softmax_function). Mathematically this looks like\n",
    "\n",
    "$$\n",
    "\\Large \\sigma(x_i) = \\cfrac{e^{x_i}}{\\sum_k^K{e^{x_k}}}\n",
    "$$\n",
    "\n",
    "What this does is squish each input $x_i$ between 0 and 1 and normalizes the values to give you a proper probability distribution where the probabilites sum up to one.\n",
    "\n",
    "> **Exercise:** Implement a function `softmax` that performs the softmax calculation and returns probability distributions for each example in the batch. Note that you'll need to pay attention to the shapes when doing this. If you have a tensor `a` with shape `(64, 10)` and a tensor `b` with shape `(64,)`, doing `a/b` will give you an error because PyTorch will try to do the division across the columns (called broadcasting) but you'll get a size mismatch. The way to think about this is for each of the 64 examples, you only want to divide by one value, the sum in the denominator. So you need `b` to have a shape of `(64, 1)`. This way PyTorch will divide the 10 values in each row of `a` by the one value in each row of `b`. Pay attention to how you take the sum as well. You'll need to define the `dim` keyword in `torch.sum`. Setting `dim=0` takes the sum across the rows while `dim=1` takes the sum across the columns."
   ]
  },
  {
   "cell_type": "code",
   "execution_count": 7,
   "metadata": {},
   "outputs": [
    {
     "name": "stdout",
     "output_type": "stream",
     "text": [
      "torch.Size([64, 10])\n",
      "tensor([1.0000, 1.0000, 1.0000, 1.0000, 1.0000, 1.0000, 1.0000, 1.0000, 1.0000,\n",
      "        1.0000, 1.0000, 1.0000, 1.0000, 1.0000, 1.0000, 1.0000, 1.0000, 1.0000,\n",
      "        1.0000, 1.0000, 1.0000, 1.0000, 1.0000, 1.0000, 1.0000, 1.0000, 1.0000,\n",
      "        1.0000, 1.0000, 1.0000, 1.0000, 1.0000, 1.0000, 1.0000, 1.0000, 1.0000,\n",
      "        1.0000, 1.0000, 1.0000, 1.0000, 1.0000, 1.0000, 1.0000, 1.0000, 1.0000,\n",
      "        1.0000, 1.0000, 1.0000, 1.0000, 1.0000, 1.0000, 1.0000, 1.0000, 1.0000,\n",
      "        1.0000, 1.0000, 1.0000, 1.0000, 1.0000, 1.0000, 1.0000, 1.0000, 1.0000,\n",
      "        1.0000])\n"
     ]
    }
   ],
   "source": [
    "def softmax(x):\n",
    "    ## TODO: Implement the softmax function here\n",
    "    d_sum = torch.sum(torch.exp(x), dim = 1)\n",
    "    return torch.exp(x)/d_sum.view(-1,1)\n",
    "\n",
    "# Here, out should be the output of the network in the previous excercise with shape (64,10)\n",
    "probabilities = softmax(out)\n",
    "\n",
    "# Does it have the right shape? Should be (64, 10)\n",
    "print(probabilities.shape)\n",
    "# Does it sum to 1?\n",
    "print(probabilities.sum(dim=1))"
   ]
  },
  {
   "cell_type": "markdown",
   "metadata": {},
   "source": [
    "## Building networks with PyTorch\n",
    "\n",
    "PyTorch provides a module `nn` that makes building networks much simpler. Here I'll show you how to build the same one as above with 784 inputs, 256 hidden units, 10 output units and a softmax output."
   ]
  },
  {
   "cell_type": "code",
   "execution_count": 8,
   "metadata": {},
   "outputs": [],
   "source": [
    "from torch import nn"
   ]
  },
  {
   "cell_type": "code",
   "execution_count": 9,
   "metadata": {},
   "outputs": [],
   "source": [
    "class Network(nn.Module):\n",
    "    def __init__(self):\n",
    "        super().__init__()\n",
    "        \n",
    "        # Inputs to hidden layer linear transformation\n",
    "        self.hidden = nn.Linear(784, 256)\n",
    "        # Output layer, 10 units - one for each digit\n",
    "        self.output = nn.Linear(256, 10)\n",
    "        \n",
    "        # Define sigmoid activation and softmax output \n",
    "        self.sigmoid = nn.Sigmoid()\n",
    "        self.softmax = nn.Softmax(dim=1)\n",
    "        \n",
    "    def forward(self, x):\n",
    "        # Pass the input tensor through each of our operations\n",
    "        x = self.hidden(x)\n",
    "        x = self.sigmoid(x)\n",
    "        x = self.output(x)\n",
    "        x = self.softmax(x)\n",
    "        \n",
    "        return x"
   ]
  },
  {
   "cell_type": "markdown",
   "metadata": {},
   "source": [
    "Let's go through this bit by bit.\n",
    "\n",
    "```python\n",
    "class Network(nn.Module):\n",
    "```\n",
    "\n",
    "Here we're inheriting from `nn.Module`. Combined with `super().__init__()` this creates a class that tracks the architecture and provides a lot of useful methods and attributes. It is mandatory to inherit from `nn.Module` when you're creating a class for your network. The name of the class itself can be anything.\n",
    "\n",
    "```python\n",
    "self.hidden = nn.Linear(784, 256)\n",
    "```\n",
    "\n",
    "This line creates a module for a linear transformation, $x\\mathbf{W} + b$, with 784 inputs and 256 outputs and assigns it to `self.hidden`. The module automatically creates the weight and bias tensors which we'll use in the `forward` method. You can access the weight and bias tensors once the network (`net`) is created with `net.hidden.weight` and `net.hidden.bias`.\n",
    "\n",
    "```python\n",
    "self.output = nn.Linear(256, 10)\n",
    "```\n",
    "\n",
    "Similarly, this creates another linear transformation with 256 inputs and 10 outputs.\n",
    "\n",
    "```python\n",
    "self.sigmoid = nn.Sigmoid()\n",
    "self.softmax = nn.Softmax(dim=1)\n",
    "```\n",
    "\n",
    "Here I defined operations for the sigmoid activation and softmax output. Setting `dim=1` in `nn.Softmax(dim=1)` calculates softmax across the columns.\n",
    "\n",
    "```python\n",
    "def forward(self, x):\n",
    "```\n",
    "\n",
    "PyTorch networks created with `nn.Module` must have a `forward` method defined. It takes in a tensor `x` and passes it through the operations you defined in the `__init__` method.\n",
    "\n",
    "```python\n",
    "x = self.hidden(x)\n",
    "x = self.sigmoid(x)\n",
    "x = self.output(x)\n",
    "x = self.softmax(x)\n",
    "```\n",
    "\n",
    "Here the input tensor `x` is passed through each operation and reassigned to `x`. We can see that the input tensor goes through the hidden layer, then a sigmoid function, then the output layer, and finally the softmax function. It doesn't matter what you name the variables here, as long as the inputs and outputs of the operations match the network architecture you want to build. The order in which you define things in the `__init__` method doesn't matter, but you'll need to sequence the operations correctly in the `forward` method.\n",
    "\n",
    "Now we can create a `Network` object."
   ]
  },
  {
   "cell_type": "code",
   "execution_count": 10,
   "metadata": {},
   "outputs": [
    {
     "data": {
      "text/plain": [
       "Network(\n",
       "  (hidden): Linear(in_features=784, out_features=256, bias=True)\n",
       "  (output): Linear(in_features=256, out_features=10, bias=True)\n",
       "  (sigmoid): Sigmoid()\n",
       "  (softmax): Softmax(dim=1)\n",
       ")"
      ]
     },
     "execution_count": 10,
     "metadata": {},
     "output_type": "execute_result"
    }
   ],
   "source": [
    "# Create the network and look at it's text representation\n",
    "model = Network()\n",
    "model"
   ]
  },
  {
   "cell_type": "markdown",
   "metadata": {},
   "source": [
    "You can define the network somewhat more concisely and clearly using the `torch.nn.functional` module. This is the most common way you'll see networks defined as many operations are simple element-wise functions. We normally import this module as `F`, `import torch.nn.functional as F`."
   ]
  },
  {
   "cell_type": "code",
   "execution_count": 11,
   "metadata": {},
   "outputs": [],
   "source": [
    "import torch.nn.functional as F\n",
    "\n",
    "class Network(nn.Module):\n",
    "    def __init__(self):\n",
    "        super().__init__()\n",
    "        # Inputs to hidden layer linear transformation\n",
    "        self.hidden = nn.Linear(784, 256)\n",
    "        # Output layer, 10 units - one for each digit\n",
    "        self.output = nn.Linear(256, 10)\n",
    "        \n",
    "    def forward(self, x):\n",
    "        # Hidden layer with sigmoid activation\n",
    "        x = F.sigmoid(self.hidden(x))\n",
    "        # Output layer with softmax activation\n",
    "        x = F.softmax(self.output(x), dim=1)\n",
    "        \n",
    "        return x"
   ]
  },
  {
   "cell_type": "markdown",
   "metadata": {},
   "source": [
    "### Activation functions\n",
    "\n",
    "So far we've only been looking at the sigmoid activation function, but in general any function can be used as an activation function. The only requirement is that for a network to approximate a non-linear function, the activation functions must be non-linear. Here are a few more examples of common activation functions: Tanh (hyperbolic tangent), and ReLU (rectified linear unit).\n",
    "\n",
    "<img src=\"assets/activation.png\" width=700px>\n",
    "\n",
    "In practice, the ReLU function is used almost exclusively as the activation function for hidden layers."
   ]
  },
  {
   "cell_type": "markdown",
   "metadata": {},
   "source": [
    "### Your Turn to Build a Network\n",
    "\n",
    "<img src=\"assets/mlp_mnist.png\" width=600px>\n",
    "\n",
    "> **Exercise:** Create a network with 784 input units, a hidden layer with 128 units and a ReLU activation, then a hidden layer with 64 units and a ReLU activation, and finally an output layer with a softmax activation as shown above. You can use a ReLU activation with the `nn.ReLU` module or `F.relu` function.\n",
    "\n",
    "It's good practice to name your layers by their type of network, for instance 'fc' to represent a fully-connected layer. As you code your solution, use `fc1`, `fc2`, and `fc3` as your layer names."
   ]
  },
  {
   "cell_type": "code",
   "execution_count": 12,
   "metadata": {
    "scrolled": true
   },
   "outputs": [
    {
     "data": {
      "text/plain": [
       "Classifier(\n",
       "  (fc1): Linear(in_features=784, out_features=128, bias=True)\n",
       "  (fc2): Linear(in_features=128, out_features=64, bias=True)\n",
       "  (fc3): Linear(in_features=64, out_features=1, bias=True)\n",
       ")"
      ]
     },
     "execution_count": 12,
     "metadata": {},
     "output_type": "execute_result"
    }
   ],
   "source": [
    "## Your solution here\n",
    "class Classifier(nn.Module):\n",
    "    def __init__(self):\n",
    "        super().__init__()\n",
    "        self.fc1 = nn.Linear(784, 128)\n",
    "        self.fc2 = nn.Linear(128, 64)\n",
    "        self.fc3 = nn.Linear(64, 1)\n",
    "        \n",
    "    def forward(self, x):\n",
    "        x = F.relu(self.fc1(x))\n",
    "        x = F.relu(self.fc2(x))\n",
    "        x = F.softmax(self.fc3(x), dim = 1)\n",
    "        return x\n",
    "        \n",
    "model = Classifier()\n",
    "model"
   ]
  },
  {
   "cell_type": "markdown",
   "metadata": {},
   "source": [
    "### Initializing weights and biases\n",
    "\n",
    "The weights and such are automatically initialized for you, but it's possible to customize how they are initialized. The weights and biases are tensors attached to the layer you defined, you can get them with `model.fc1.weight` for instance."
   ]
  },
  {
   "cell_type": "code",
   "execution_count": 13,
   "metadata": {},
   "outputs": [
    {
     "name": "stdout",
     "output_type": "stream",
     "text": [
      "Parameter containing:\n",
      "tensor([[-0.0301,  0.0067, -0.0307,  ..., -0.0290, -0.0221,  0.0061],\n",
      "        [-0.0309,  0.0077, -0.0325,  ..., -0.0268, -0.0195,  0.0191],\n",
      "        [ 0.0143, -0.0222, -0.0087,  ...,  0.0159, -0.0276, -0.0097],\n",
      "        ...,\n",
      "        [-0.0244, -0.0193,  0.0216,  ...,  0.0026,  0.0320, -0.0077],\n",
      "        [-0.0101, -0.0007,  0.0173,  ..., -0.0112,  0.0089, -0.0161],\n",
      "        [-0.0300, -0.0243,  0.0272,  ..., -0.0279, -0.0253,  0.0182]],\n",
      "       requires_grad=True)\n",
      "Parameter containing:\n",
      "tensor([-7.3029e-03,  1.4027e-02, -2.5543e-02,  3.5676e-02,  4.0471e-03,\n",
      "        -8.1826e-03,  1.7489e-03, -1.1931e-03, -4.9220e-03, -3.4297e-02,\n",
      "         1.6844e-02,  1.2152e-02, -4.8059e-03, -2.6213e-02,  2.9614e-02,\n",
      "         3.1018e-02,  1.7061e-02, -1.3213e-02, -3.4967e-02, -2.6261e-02,\n",
      "         7.2135e-04,  2.6659e-02,  1.8137e-02, -2.2551e-02,  2.4421e-03,\n",
      "        -2.4138e-02,  1.4406e-02,  6.1277e-05, -2.0539e-02,  5.9734e-03,\n",
      "        -2.3270e-02, -4.7878e-03, -9.6132e-03,  6.2757e-03,  6.0069e-03,\n",
      "         2.5043e-02,  2.7130e-02,  2.1919e-02,  8.2576e-03, -2.4389e-02,\n",
      "        -2.0286e-02, -2.1979e-02,  1.5604e-02, -1.9863e-03, -1.0693e-02,\n",
      "         1.0919e-02,  2.4471e-02,  2.0793e-03, -4.4820e-03, -2.8785e-02,\n",
      "        -3.0488e-02, -5.0088e-03, -1.8334e-02, -5.6476e-03,  2.8818e-02,\n",
      "        -2.1457e-03,  3.1923e-03, -2.0363e-02,  7.0131e-03,  2.7136e-02,\n",
      "        -2.8907e-02, -3.3599e-02, -1.8066e-02,  2.0520e-02, -5.1025e-04,\n",
      "        -1.9929e-02,  1.9083e-02,  1.3514e-02,  3.3163e-02,  1.3225e-02,\n",
      "        -1.6634e-02, -1.6630e-02, -1.9118e-03, -2.5367e-03, -5.6103e-03,\n",
      "         1.6575e-02, -3.4734e-02, -6.5643e-03,  1.4340e-02, -3.2055e-02,\n",
      "        -2.9571e-02, -1.4143e-02, -2.0658e-02, -2.4841e-02,  3.4984e-02,\n",
      "         3.0146e-02, -2.1604e-02,  3.5669e-02,  1.9933e-02, -3.5038e-02,\n",
      "        -2.2891e-03,  1.1632e-02,  2.3536e-02,  2.0217e-02, -2.2910e-02,\n",
      "        -5.7932e-03,  5.8926e-03, -1.8626e-02,  2.0325e-02, -2.2209e-02,\n",
      "        -1.7857e-02, -1.3136e-02,  1.1922e-02,  1.9145e-02, -1.5650e-03,\n",
      "        -3.4459e-02,  2.5761e-02, -3.7659e-03,  2.4213e-02,  1.6571e-02,\n",
      "         2.2453e-02,  3.4461e-02, -2.6397e-02,  2.3385e-02,  1.3917e-02,\n",
      "        -2.9181e-02, -1.3687e-02,  1.3514e-02,  1.9664e-02,  1.3616e-03,\n",
      "         4.2214e-03, -1.1643e-03, -3.1353e-02, -3.3650e-02, -8.4652e-03,\n",
      "         1.2141e-02, -2.5976e-02,  3.0213e-02], requires_grad=True)\n"
     ]
    }
   ],
   "source": [
    "print(model.fc1.weight)\n",
    "print(model.fc1.bias)"
   ]
  },
  {
   "cell_type": "markdown",
   "metadata": {},
   "source": [
    "For custom initialization, we want to modify these tensors in place. These are actually autograd *Variables*, so we need to get back the actual tensors with `model.fc1.weight.data`. Once we have the tensors, we can fill them with zeros (for biases) or random normal values."
   ]
  },
  {
   "cell_type": "code",
   "execution_count": 14,
   "metadata": {},
   "outputs": [
    {
     "data": {
      "text/plain": [
       "tensor([0., 0., 0., 0., 0., 0., 0., 0., 0., 0., 0., 0., 0., 0., 0., 0., 0., 0., 0., 0., 0., 0., 0., 0.,\n",
       "        0., 0., 0., 0., 0., 0., 0., 0., 0., 0., 0., 0., 0., 0., 0., 0., 0., 0., 0., 0., 0., 0., 0., 0.,\n",
       "        0., 0., 0., 0., 0., 0., 0., 0., 0., 0., 0., 0., 0., 0., 0., 0., 0., 0., 0., 0., 0., 0., 0., 0.,\n",
       "        0., 0., 0., 0., 0., 0., 0., 0., 0., 0., 0., 0., 0., 0., 0., 0., 0., 0., 0., 0., 0., 0., 0., 0.,\n",
       "        0., 0., 0., 0., 0., 0., 0., 0., 0., 0., 0., 0., 0., 0., 0., 0., 0., 0., 0., 0., 0., 0., 0., 0.,\n",
       "        0., 0., 0., 0., 0., 0., 0., 0.])"
      ]
     },
     "execution_count": 14,
     "metadata": {},
     "output_type": "execute_result"
    }
   ],
   "source": [
    "# Set biases to all zeros\n",
    "model.fc1.bias.data.fill_(0)"
   ]
  },
  {
   "cell_type": "code",
   "execution_count": 15,
   "metadata": {},
   "outputs": [
    {
     "data": {
      "text/plain": [
       "tensor([[-1.7458e-02, -1.6738e-02,  1.8153e-03,  ..., -1.0110e-02,\n",
       "          1.4838e-02,  1.0918e-02],\n",
       "        [-1.6677e-02,  3.4715e-04,  1.4527e-02,  ...,  1.4149e-02,\n",
       "          1.0426e-02,  1.1420e-02],\n",
       "        [ 4.9437e-03, -1.1490e-03, -8.1286e-05,  ...,  1.9736e-02,\n",
       "         -1.5613e-02, -8.9940e-03],\n",
       "        ...,\n",
       "        [ 4.9221e-03,  1.4229e-02,  1.1786e-02,  ..., -5.6416e-03,\n",
       "         -2.1719e-02,  1.9634e-02],\n",
       "        [-3.7966e-03, -7.0263e-04, -1.1400e-02,  ...,  3.2066e-03,\n",
       "         -2.0096e-02,  1.9472e-03],\n",
       "        [-1.1169e-03, -2.1693e-03, -1.0115e-02,  ..., -2.0626e-03,\n",
       "         -4.9539e-03, -2.1265e-03]])"
      ]
     },
     "execution_count": 15,
     "metadata": {},
     "output_type": "execute_result"
    }
   ],
   "source": [
    "# sample from random normal with standard dev = 0.01\n",
    "model.fc1.weight.data.normal_(std=0.01)"
   ]
  },
  {
   "cell_type": "markdown",
   "metadata": {},
   "source": [
    "### Forward pass\n",
    "\n",
    "Now that we have a network, let's see what happens when we pass in an image."
   ]
  },
  {
   "cell_type": "code",
   "execution_count": 21,
   "metadata": {},
   "outputs": [
    {
     "data": {
      "image/png": "[encoded data removed]",
      "text/plain": [
       "<Figure size 432x648 with 2 Axes>"
      ]
     },
     "metadata": {
      "image/png": {
       "height": 235,
       "width": 424
      },
      "needs_background": "light"
     },
     "output_type": "display_data"
    }
   ],
   "source": [
    "dataiter = iter(trainloader)\n",
    "image, label = dataiter.next()\n",
    "image.resize_(64, 1, 784)\n",
    "img_id = 10\n",
    "pred = model.forward(image[img_id,:])\n",
    "helper.view_classify(images[img_id].view(1,28,28), pred)"
   ]
  },
  {
   "cell_type": "code",
   "execution_count": 22,
   "metadata": {},
   "outputs": [
    {
     "data": {
      "image/png": "[encoded data removed]",
      "text/plain": [
       "<Figure size 432x648 with 2 Axes>"
      ]
     },
     "metadata": {
      "image/png": {
       "height": 235,
       "width": 424
      },
      "needs_background": "light"
     },
     "output_type": "display_data"
    }
   ],
   "source": [
    "# Grab some data \n",
    "dataiter = iter(trainloader)\n",
    "images, labels = dataiter.next()\n",
    "\n",
    "# Resize images into a 1D vector, new shape is (batch size, color channels, image pixels) \n",
    "images.resize_(64, 1, 784)\n",
    "# or images.resize_(images.shape[0], 1, 784) to automatically get batch size\n",
    "\n",
    "# Forward pass through the network\n",
    "img_idx = 0\n",
    "ps = model.forward(images[img_idx,:])\n",
    "\n",
    "img = images[img_idx]\n",
    "helper.view_classify(img.view(1, 28, 28), ps)"
   ]
  },
  {
   "cell_type": "markdown",
   "metadata": {},
   "source": [
    "As you can see above, our network has basically no idea what this digit is. It's because we haven't trained it yet, all the weights are random!\n",
    "\n",
    "### Using `nn.Sequential`\n",
    "\n",
    "PyTorch provides a convenient way to build networks like this where a tensor is passed sequentially through operations, `nn.Sequential` ([documentation](https://pytorch.org/docs/master/nn.html#torch.nn.Sequential)). Using this to build the equivalent network:"
   ]
  },
  {
   "cell_type": "code",
   "execution_count": 23,
   "metadata": {},
   "outputs": [
    {
     "name": "stdout",
     "output_type": "stream",
     "text": [
      "Sequential(\n",
      "  (0): Linear(in_features=784, out_features=128, bias=True)\n",
      "  (1): ReLU()\n",
      "  (2): Linear(in_features=128, out_features=64, bias=True)\n",
      "  (3): ReLU()\n",
      "  (4): Linear(in_features=64, out_features=10, bias=True)\n",
      "  (5): Softmax(dim=1)\n",
      ")\n"
     ]
    },
    {
     "data": {
      "image/png": "[encoded data removed]",
      "text/plain": [
       "<Figure size 432x648 with 2 Axes>"
      ]
     },
     "metadata": {
      "image/png": {
       "height": 235,
       "width": 424
      },
      "needs_background": "light"
     },
     "output_type": "display_data"
    }
   ],
   "source": [
    "# Hyperparameters for our network\n",
    "input_size = 784\n",
    "hidden_sizes = [128, 64]\n",
    "output_size = 10\n",
    "\n",
    "# Build a feed-forward network\n",
    "model = nn.Sequential(nn.Linear(input_size, hidden_sizes[0]),\n",
    "                      nn.ReLU(),\n",
    "                      nn.Linear(hidden_sizes[0], hidden_sizes[1]),\n",
    "                      nn.ReLU(),\n",
    "                      nn.Linear(hidden_sizes[1], output_size),\n",
    "                      nn.Softmax(dim=1))\n",
    "print(model)\n",
    "\n",
    "# Forward pass through the network and display output\n",
    "images, labels = next(iter(trainloader))\n",
    "images.resize_(images.shape[0], 1, 784)\n",
    "ps = model.forward(images[0,:])\n",
    "helper.view_classify(images[0].view(1, 28, 28), ps)"
   ]
  },
  {
   "cell_type": "markdown",
   "metadata": {},
   "source": [
    "Here our model is the same as before: 784 input units, a hidden layer with 128 units, ReLU activation, 64 unit hidden layer, another ReLU, then the output layer with 10 units, and the softmax output.\n",
    "\n",
    "The operations are available by passing in the appropriate index. For example, if you want to get first Linear operation and look at the weights, you'd use `model[0]`."
   ]
  },
  {
   "cell_type": "code",
   "execution_count": 24,
   "metadata": {},
   "outputs": [
    {
     "name": "stdout",
     "output_type": "stream",
     "text": [
      "Linear(in_features=784, out_features=128, bias=True)\n"
     ]
    },
    {
     "data": {
      "text/plain": [
       "Parameter containing:\n",
       "tensor([[ 0.0243, -0.0009,  0.0178,  ...,  0.0206, -0.0194,  0.0224],\n",
       "        [ 0.0136, -0.0352, -0.0262,  ...,  0.0328, -0.0106,  0.0073],\n",
       "        [ 0.0008,  0.0205,  0.0174,  ...,  0.0207,  0.0028, -0.0212],\n",
       "        ...,\n",
       "        [-0.0262,  0.0071, -0.0024,  ..., -0.0331, -0.0252, -0.0325],\n",
       "        [-0.0102, -0.0145, -0.0008,  ..., -0.0083, -0.0172,  0.0081],\n",
       "        [-0.0104,  0.0341, -0.0059,  ..., -0.0075,  0.0179,  0.0048]],\n",
       "       requires_grad=True)"
      ]
     },
     "execution_count": 24,
     "metadata": {},
     "output_type": "execute_result"
    }
   ],
   "source": [
    "print(model[0])\n",
    "model[0].weight"
   ]
  },
  {
   "cell_type": "markdown",
   "metadata": {},
   "source": [
    "You can also pass in an `OrderedDict` to name the individual layers and operations, instead of using incremental integers. Note that dictionary keys must be unique, so _each operation must have a different name_."
   ]
  },
  {
   "cell_type": "code",
   "execution_count": 25,
   "metadata": {},
   "outputs": [
    {
     "data": {
      "text/plain": [
       "Sequential(\n",
       "  (fc1): Linear(in_features=784, out_features=128, bias=True)\n",
       "  (relu1): ReLU()\n",
       "  (fc2): Linear(in_features=128, out_features=64, bias=True)\n",
       "  (relu2): ReLU()\n",
       "  (output): Linear(in_features=64, out_features=10, bias=True)\n",
       "  (softmax): Softmax(dim=1)\n",
       ")"
      ]
     },
     "execution_count": 25,
     "metadata": {},
     "output_type": "execute_result"
    }
   ],
   "source": [
    "from collections import OrderedDict\n",
    "model = nn.Sequential(OrderedDict([\n",
    "                      ('fc1', nn.Linear(input_size, hidden_sizes[0])),\n",
    "                      ('relu1', nn.ReLU()),\n",
    "                      ('fc2', nn.Linear(hidden_sizes[0], hidden_sizes[1])),\n",
    "                      ('relu2', nn.ReLU()),\n",
    "                      ('output', nn.Linear(hidden_sizes[1], output_size)),\n",
    "                      ('softmax', nn.Softmax(dim=1))]))\n",
    "model"
   ]
  },
  {
   "cell_type": "markdown",
   "metadata": {},
   "source": [
    "Now you can access layers either by integer or the name"
   ]
  },
  {
   "cell_type": "code",
   "execution_count": 30,
   "metadata": {},
   "outputs": [
    {
     "name": "stdout",
     "output_type": "stream",
     "text": [
      "Linear(in_features=784, out_features=128, bias=True)\n",
      "Linear(in_features=784, out_features=128, bias=True)\n"
     ]
    }
   ],
   "source": [
    "print(model[0])\n",
    "print(model.fc1)"
   ]
  },
  {
   "cell_type": "markdown",
   "metadata": {},
   "source": [
    "In the next notebook, we'll see how we can train a neural network to accuractly predict the numbers appearing in the MNIST images."
   ]
  }
 ],
 "metadata": {
  "kernelspec": {
   "display_name": "Python 3",
   "language": "python",
   "name": "python3"
  },
  "language_info": {
   "codemirror_mode": {
    "name": "ipython",
    "version": 3
   },
   "file_extension": ".py",
   "mimetype": "text/x-python",
   "name": "python",
   "nbconvert_exporter": "python",
   "pygments_lexer": "ipython3",
   "version": "3.7.9"
  }
 },
 "nbformat": 4,
 "nbformat_minor": 4
}
